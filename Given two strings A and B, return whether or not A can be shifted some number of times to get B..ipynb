{
 "cells": [
  {
   "cell_type": "markdown",
   "metadata": {},
   "source": [
    "# Question"
   ]
  },
  {
   "cell_type": "raw",
   "metadata": {},
   "source": [
    "Given two strings A and B, return whether or not A can be shifted some number of times to get B.\n",
    " \n",
    "For example, if A is abcde and B is cdeab, return true. If A is abc and B is acb, return false"
   ]
  },
  {
   "cell_type": "markdown",
   "metadata": {},
   "source": [
    "# Solution"
   ]
  },
  {
   "cell_type": "raw",
   "metadata": {},
   "source": [
    "If the strings are not the same length, then we can immediately return false.\n",
    " \n",
    "One solution might be to use a doubly nested for loop, and compare each character starting at different offsets and verifying that they all match up:\n"
   ]
  },
  {
   "cell_type": "markdown",
   "metadata": {},
   "source": [
    "# Code"
   ]
  },
  {
   "cell_type": "code",
   "execution_count": 1,
   "metadata": {},
   "outputs": [],
   "source": [
    "def is_shifted(a, b):\n",
    "    if len(a) != len(b):\n",
    "        return False\n",
    "\n",
    "    for i in range(len(a)):\n",
    "        if all(a[(i + j) % len(a)] == b[j] for j in range(len(a))):\n",
    "            return True\n",
    "\n",
    "    return False"
   ]
  },
  {
   "cell_type": "raw",
   "metadata": {},
   "source": [
    "Another cleaner way to solve this might be to concatenate one of the strings to itself (like a + a), and try looking for the other string in this concatenated string. If the string is shifted, we should find it in the concatenated string."
   ]
  },
  {
   "cell_type": "code",
   "execution_count": 2,
   "metadata": {},
   "outputs": [],
   "source": [
    "def is_shifted(a, b):\n",
    "    if len(a) != len(b):\n",
    "        return False\n",
    "\n",
    "    return b in a + a"
   ]
  },
  {
   "cell_type": "raw",
   "metadata": {},
   "source": [
    "These solutions both take O(N^2) time."
   ]
  }
 ],
 "metadata": {
  "kernelspec": {
   "display_name": "Python 3",
   "language": "python",
   "name": "python3"
  },
  "language_info": {
   "codemirror_mode": {
    "name": "ipython",
    "version": 3
   },
   "file_extension": ".py",
   "mimetype": "text/x-python",
   "name": "python",
   "nbconvert_exporter": "python",
   "pygments_lexer": "ipython3",
   "version": "3.6.5"
  }
 },
 "nbformat": 4,
 "nbformat_minor": 2
}
