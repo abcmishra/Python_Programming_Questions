{
 "cells": [
  {
   "cell_type": "raw",
   "metadata": {},
   "source": [
    "Design and implement a HitCounter class that keeps track of requests (or hits). It should support the following operations:\n",
    "\n",
    "record(timestamp): records a hit that happened at timestamp\n",
    "total(): returns the total number of hits recorded\n",
    "range(lower, upper): returns the number of hits that occurred between timestamps lower and upper (inclusive)\n",
    "Follow-up: What if our system has limited memory?\n",
    "\n",
    "\n"
   ]
  },
  {
   "cell_type": "code",
   "execution_count": 1,
   "metadata": {},
   "outputs": [],
   "source": [
    "class HitCounter:\n",
    "    def __init__(self):\n",
    "        self.hits = []\n",
    "\n",
    "    def record(self, timestamp):\n",
    "        self.hits.append(timestamp)\n",
    "\n",
    "    def total(self):\n",
    "        return len(self.hits)\n",
    "\n",
    "    def range(self, lower, upper):\n",
    "        count = 0\n",
    "        for hit in self.hits:\n",
    "            if lower <= hit <= upper:\n",
    "                count += 1\n",
    "        return count"
   ]
  },
  {
   "cell_type": "raw",
   "metadata": {},
   "source": [
    "Here, record() and total() would take constant time, but range() would take O(n) time.\n",
    "\n",
    "One tradeoff we could make here is to use a sorted list or binary search tree to keep track of the hits. That way, range() would now take O(lg n) time, but so would record().\n",
    "\n",
    "We'll use python's bisect library to maintain sortedness:"
   ]
  },
  {
   "cell_type": "code",
   "execution_count": 2,
   "metadata": {},
   "outputs": [],
   "source": [
    "import bisect\n",
    "\n",
    "class HitCounter:\n",
    "    def __init__(self):\n",
    "        self.hits = []\n",
    "\n",
    "    def record(self, timestamp):\n",
    "        bisect.insort_left(self.hits, timestamp)\n",
    "\n",
    "    def total(self):\n",
    "        return len(self.hits)\n",
    "\n",
    "    def range(self, lower, upper):\n",
    "        left = bisect.bisect_left(self.hits, lower)\n",
    "        right = bisect.bisect_right(self.hits, upper)\n",
    "        return right - left"
   ]
  },
  {
   "cell_type": "raw",
   "metadata": {},
   "source": [
    "This will still take up a lot of space, though -- one element for each timestamp.\n",
    "\n",
    "To address the follow-up question, we can make several possible trade-offs.\n",
    "\n",
    "One possible trade-off would be to sacrifice accuracy for memory by grouping together timestamps in a coarser granularity, such as minute or even hours. That means we'll lose some accuracy around the borders but we'd be using up to a constant factor less space.\n",
    "\n",
    "For our solution, we'll keep track of each group in a tuple where the first item is the timestamp in minutes and the second is the number of hits occurring within that minute. We'll sort the tuples by minute for O(lg n) record:"
   ]
  },
  {
   "cell_type": "code",
   "execution_count": 4,
   "metadata": {},
   "outputs": [],
   "source": [
    "import bisect\n",
    "from math import floor\n",
    "\n",
    "class HitCounter:\n",
    "    def __init__(self):\n",
    "        self.counter = 0\n",
    "        self.hits = [] # (timestamp in minutes, # of times)\n",
    "\n",
    "    def record(self, timestamp):\n",
    "        self.counter += 1\n",
    "\n",
    "        minute = floor(timestamp / 60)\n",
    "        i = bisect.bisect_left([hit[0] for hit in self.hits], minute)\n",
    "\n",
    "        if i < len(self.hits) and self.hits[i][0] == minute:\n",
    "            self.hits[i] = (minute, self.hits[i][1] + 1)\n",
    "        else:\n",
    "            self.hits.insert(i, (minute, 1))\n",
    "\n",
    "    def total(self):\n",
    "        return self.counter\n",
    "\n",
    "    def range(self, lower, upper):\n",
    "        lower_minute = floor(lower / 60)\n",
    "        upper_minute = floor(upper / 60)\n",
    "        lower_i = bisect.bisect_left([hit[0] for hit in self.hits], lower_minute)\n",
    "        upper_i = bisect.bisect_right([hit[0] for hit in self.hits], upper_minute)\n",
    "\n",
    "        return sum(self.hits[i][1] for i in range(lower_i, upper_i))"
   ]
  },
  {
   "cell_type": "code",
   "execution_count": null,
   "metadata": {},
   "outputs": [],
   "source": []
  }
 ],
 "metadata": {
  "kernelspec": {
   "display_name": "Python 3",
   "language": "python",
   "name": "python3"
  },
  "language_info": {
   "codemirror_mode": {
    "name": "ipython",
    "version": 3
   },
   "file_extension": ".py",
   "mimetype": "text/x-python",
   "name": "python",
   "nbconvert_exporter": "python",
   "pygments_lexer": "ipython3",
   "version": "3.6.5"
  }
 },
 "nbformat": 4,
 "nbformat_minor": 2
}
