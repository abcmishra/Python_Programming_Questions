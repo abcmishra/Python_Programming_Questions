{
 "cells": [
  {
   "cell_type": "markdown",
   "metadata": {},
   "source": [
    "# Question"
   ]
  },
  {
   "cell_type": "raw",
   "metadata": {},
   "source": [
    "\n",
    "Determine whether a doubly linked list is a palindrome. What if it’s singly linked?\n",
    "\n",
    "For example, 1 -> 4 -> 3 -> 4 -> 1 returns True while 1 -> 4 returns False"
   ]
  },
  {
   "cell_type": "markdown",
   "metadata": {},
   "source": [
    "# Solution"
   ]
  },
  {
   "cell_type": "raw",
   "metadata": {},
   "source": [
    "This problem can be solved for both singly and doubly linked list by using iterators.\n",
    "\n",
    "We can then create an iterator over the first node, and another iterator over the reverse of the linked list. Then compare that the two are the same.\n",
    "\n",
    "This would take O(N) space and time."
   ]
  },
  {
   "cell_type": "markdown",
   "metadata": {},
   "source": [
    "# Code"
   ]
  },
  {
   "cell_type": "code",
   "execution_count": 1,
   "metadata": {},
   "outputs": [],
   "source": [
    "def get_values(node):\n",
    "    while node:\n",
    "        yield node.val\n",
    "        node = node.next\n",
    "\n",
    "\n",
    "def is_palindrome(node):\n",
    "    values = get_values(node)\n",
    "    values_reversed = reversed(list(get_values(node))) # O(N) space\n",
    "\n",
    "    return all(x == y for x, y in zip(values, values_reversed))"
   ]
  }
 ],
 "metadata": {
  "kernelspec": {
   "display_name": "Python 3",
   "language": "python",
   "name": "python3"
  },
  "language_info": {
   "codemirror_mode": {
    "name": "ipython",
    "version": 3
   },
   "file_extension": ".py",
   "mimetype": "text/x-python",
   "name": "python",
   "nbconvert_exporter": "python",
   "pygments_lexer": "ipython3",
   "version": "3.6.5"
  }
 },
 "nbformat": 4,
 "nbformat_minor": 2
}
