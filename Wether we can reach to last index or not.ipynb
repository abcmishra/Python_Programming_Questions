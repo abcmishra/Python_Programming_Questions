{
 "cells": [
  {
   "cell_type": "markdown",
   "metadata": {},
   "source": [
    "# Question"
   ]
  },
  {
   "cell_type": "raw",
   "metadata": {},
   "source": [
    "Given an integer list where each number represents the number of hops you can make, determine whether you can reach to the last index starting at index 0.\n",
    "\n",
    "For example, [2, 0, 1, 0] returns True while [1, 1, 0, 1] returns False."
   ]
  },
  {
   "cell_type": "markdown",
   "metadata": {},
   "source": [
    "# Solution"
   ]
  },
  {
   "cell_type": "raw",
   "metadata": {},
   "source": [
    "This problem can be solved by using dynamic programming:\n",
    "\n",
    "We can see we can reach the Kth step if we can reach a step 0 <= j < K and j + hops[j] >= K.\n",
    "\n",
    "Another approach that would use O(1) space is to start at the first step and keep a variable steps_left which represents the maximum number of steps we can move forward. If we store this value and ensure that we can reach the end of each step without this value becoming 0 (except for the last step), then we know we can reach the last step."
   ]
  },
  {
   "cell_type": "markdown",
   "metadata": {},
   "source": [
    "# Code"
   ]
  },
  {
   "cell_type": "code",
   "execution_count": 1,
   "metadata": {},
   "outputs": [],
   "source": [
    "def can_reach_end(hops):\n",
    "    steps_left = 1\n",
    "\n",
    "    for i in range(len(hops) - 1):\n",
    "        steps_left = max(steps_left - 1, hops[i])\n",
    "        if steps_left == 0:\n",
    "            return False\n",
    "    return True"
   ]
  }
 ],
 "metadata": {
  "kernelspec": {
   "display_name": "Python 3",
   "language": "python",
   "name": "python3"
  },
  "language_info": {
   "codemirror_mode": {
    "name": "ipython",
    "version": 3
   },
   "file_extension": ".py",
   "mimetype": "text/x-python",
   "name": "python",
   "nbconvert_exporter": "python",
   "pygments_lexer": "ipython3",
   "version": "3.6.5"
  }
 },
 "nbformat": 4,
 "nbformat_minor": 2
}
