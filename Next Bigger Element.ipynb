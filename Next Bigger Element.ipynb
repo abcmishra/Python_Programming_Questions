{
 "cells": [
  {
   "cell_type": "raw",
   "metadata": {},
   "source": [
    "Given a node in a binary search tree, return the next bigger element, also known as the inorder successor.\n",
    "\n",
    "For example, the inorder successor of 22 is 30.\n",
    "\n",
    "   10\n",
    "  /  \\\n",
    " 5    30\n",
    "     /  \\\n",
    "   22    35\n",
    "You can assume each node has a parent pointer."
   ]
  },
  {
   "cell_type": "raw",
   "metadata": {},
   "source": [
    "We can use case-analysis to break the problem down to two steps.\n",
    "\n",
    "First, if there is a right child of node, then the leftmost descendant of node.right (or just node.right if it has none) is simply the inorder successor.\n",
    "Otherwise, we can find the inorder successor by traversing through the parent pointers, keeping track of the current node and parent. When we find a parent whose left child is equal to node, then we know this is the inorder successor.\n",
    "Let's look at an example.\n",
    "\n",
    " 10\n",
    "  /  \\\n",
    " 5    30\n",
    "     /  \\\n",
    "   22    35\n",
    "    \\\n",
    "     25\n",
    "\n",
    "The inorder successor of 10 is 22 since it has a right child and 22 is the leftmost child of node.right.\n",
    "The inorder successor of 25 is 30 since 30 is the first parent where parent.left is node."
   ]
  },
  {
   "cell_type": "code",
   "execution_count": 1,
   "metadata": {},
   "outputs": [],
   "source": [
    "class Node:\n",
    "    def __init__(self, val, left=None, right=None, parent=None):\n",
    "        self.val = val\n",
    "        self.left = left\n",
    "        self.right = right\n",
    "        self.parent = parent\n",
    "\n",
    "\n",
    "def inorder_successor(node):\n",
    "    if node.right:\n",
    "        return leftmost(node.right)\n",
    "\n",
    "    parent = node.parent\n",
    "\n",
    "    while parent and parent.left is not node:\n",
    "        parent, node = parent.parent, parent\n",
    "\n",
    "    return parent\n",
    "\n",
    "def leftmost(node):\n",
    "    while node.left:\n",
    "        node = node.left\n",
    "    return node"
   ]
  },
  {
   "cell_type": "code",
   "execution_count": null,
   "metadata": {},
   "outputs": [],
   "source": []
  }
 ],
 "metadata": {
  "kernelspec": {
   "display_name": "Python 3",
   "language": "python",
   "name": "python3"
  },
  "language_info": {
   "codemirror_mode": {
    "name": "ipython",
    "version": 3
   },
   "file_extension": ".py",
   "mimetype": "text/x-python",
   "name": "python",
   "nbconvert_exporter": "python",
   "pygments_lexer": "ipython3",
   "version": "3.6.5"
  }
 },
 "nbformat": 4,
 "nbformat_minor": 2
}
