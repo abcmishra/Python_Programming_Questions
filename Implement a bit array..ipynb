{
 "cells": [
  {
   "cell_type": "raw",
   "metadata": {},
   "source": [
    "Implement a bit array.\n",
    "\n",
    "A bit array is a space efficient array that holds a value of 1 or 0 at each index.\n",
    "\n",
    "init(size): initialize the array with size\n",
    "set(i, val): updates index at i with val where val is either 1 or 0.\n",
    "get(i): gets the value at index i.\n"
   ]
  },
  {
   "cell_type": "raw",
   "metadata": {},
   "source": [
    "Although Python has arbitrary precision, let's assume each Python int has 32 bits.\n",
    "\n",
    "We can use a list of ints to store size bits. Since size may not be divisible by 32, we find the ceiling of size / 32 to figure out the number of integers we need in the list.\n",
    "\n",
    "Using the above strategy, we would store the first 32 bits in list[0], the next 32 bits in list[1], and so forth.\n",
    "\n",
    "For the get(i) method, we first find the index in the list that holds the ith bit, which is at i / BITS_PER_INT. Then we find the offset in the integer which holds the bit, which is at i % BITS_PER_INT. After these steps, we can extract the bit like so: (self._list[list_idx] >> int_idx) & 1\n",
    "\n",
    "As for set(i, val), we use the following formula:\n",
    "\n",
    "self._list[list_idx] ^= (-val ^ self._list[list_idx]) & (1 << int_idx)\n",
    "The above formula works since if val is 0, then the ith bit ends up getting xord by itself, resulting in 0. If val is 1, then, the ith bit gets xored by itself again, which results in 1."
   ]
  },
  {
   "cell_type": "code",
   "execution_count": 1,
   "metadata": {},
   "outputs": [],
   "source": [
    "import math\n",
    "\n",
    "\n",
    "BITS_PER_INT = 32\n",
    "\n",
    "\n",
    "class BitArray(object):\n",
    "    def __init__(self, size):\n",
    "        self._list = [0] * int(math.ceil(size / float(BITS_PER_INT)))\n",
    "        self._size = size\n",
    "\n",
    "    def get(self, i):\n",
    "        if i < 0 or i >= self._size:\n",
    "            raise IndexError('Index out of bounds')\n",
    "\n",
    "        list_idx = i / BITS_PER_INT\n",
    "        int_idx = i % BITS_PER_INT\n",
    "\n",
    "        return (self._list[list_idx] >> int_idx) & 1\n",
    "\n",
    "    def set(self, i, val):\n",
    "        if i < 0 or i >= self._size:\n",
    "            raise IndexError('Index out of bounds')\n",
    "\n",
    "        list_idx = i / BITS_PER_INT\n",
    "        int_idx = i % BITS_PER_INT\n",
    "\n",
    "        self._list[list_idx] ^= (-val ^ self._list[list_idx]) & (1 << int_idx)"
   ]
  },
  {
   "cell_type": "markdown",
   "metadata": {},
   "source": [
    "get(i) and set(i) takes O(1) and the data structure takes O(N) space."
   ]
  }
 ],
 "metadata": {
  "kernelspec": {
   "display_name": "Python 3",
   "language": "python",
   "name": "python3"
  },
  "language_info": {
   "codemirror_mode": {
    "name": "ipython",
    "version": 3
   },
   "file_extension": ".py",
   "mimetype": "text/x-python",
   "name": "python",
   "nbconvert_exporter": "python",
   "pygments_lexer": "ipython3",
   "version": "3.6.5"
  }
 },
 "nbformat": 4,
 "nbformat_minor": 2
}
