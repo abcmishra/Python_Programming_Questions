{
 "cells": [
  {
   "cell_type": "markdown",
   "metadata": {},
   "source": [
    "# Question"
   ]
  },
  {
   "cell_type": "raw",
   "metadata": {},
   "source": [
    "Given a number represented by a list of digits, find the next greater permutation of a number, in terms of lexicographic ordering. If there is not greater permutation possible, return the permutation with the lowest value/ordering.\n",
    "\n",
    "For example, the list [1,2,3] should return [1,3,2]. The list [1,3,2] should return [2,1,3]. The list [3,2,1] should return [1,2,3]."
   ]
  },
  {
   "cell_type": "markdown",
   "metadata": {},
   "source": [
    "# Explanation"
   ]
  },
  {
   "cell_type": "raw",
   "metadata": {},
   "source": [
    "The brute force approach to this problem would be to generate all permutations of the number/list. One we have all of the permutations, we choose the one that comes right after our input list, by taking the minimum of their distances. This approach would take O(N!) time to generate the permutations and find the one that is the closest to our given number.\n",
    "\n",
    "We can instead observe a pattern in how the next permutation is obtained. First, consider the case where the entire sequence is decreasing (e.g. [3,2,1]). Regardless of the values, we cannot generate a permutation where the value is greater. We can see this since, if there were two possible values a and b that could be swapped to obtain a higher value of a, b must be greater than a. Since b comes after a in the sequence and the sequence is decreasing, we have a contradiction. Next, we have to generate the lowest possible value from the sequence. By similar logic, the smallest number we can generate is from an increasing sequence -- or the reverse of the decreasing sequence.\n",
    "\n",
    "Now, we can break down other problems in terms of this subproblem. We will start from the right side of the list, and try to find the smallest digit that we can swap and obtain a higher number. While the sublist is a decreasing sequence, we cannot get a higher permutation. Instead, we try adding to the sublist by appending the digit to the left. Once we get a digit that is less than the one to the right, we swap it with the smallest digit that is higher than it. Then, we must make sure the remaining digits to the right are in their lowest-value permutation. We can do this by ordering the remaining digits on the right from least-to-greatest. Since our swap preserves the fact that the right sublist is decreasing, we simply reverse it. For example:\n",
    "\n",
    "[1, 3, 5, 4, 2]\n",
    "             ^ decreasing sublist\n",
    "[1, 3, 5, 4, 2]\n",
    "          ^  ^ decreasing sublist\n",
    "[1, 3, 5, 4, 2]\n",
    "       ^     ^ decreasing sublist\n",
    "[1, 3, 5, 4, 2]\n",
    "    ^        ^ non-decreasing, so swap with next-highest digit\n",
    "[1, 4, 5, 3, 2]\n",
    "    ^        ^ reverse digits to the right, sorting least-to-greatest\n",
    "[1, 4, 2, 3, 5]"
   ]
  },
  {
   "cell_type": "markdown",
   "metadata": {},
   "source": [
    "# Code"
   ]
  },
  {
   "cell_type": "code",
   "execution_count": 1,
   "metadata": {},
   "outputs": [],
   "source": [
    "def nextPermutation(self, nums):\n",
    "    def swap(nums, a, b):\n",
    "        # Perform an in-place swap\n",
    "        nums[a], nums[b] = nums[b], nums[a]\n",
    "\n",
    "    def reverse(nums, a, b):\n",
    "        # Reverses elements at index a to b (inclusive) in-place\n",
    "        nums[a:b+1] = reversed(nums[a:b+1])\n",
    "\n",
    "    # Find first index where nums[idx] < nums[idx + 1]\n",
    "    pivot = len(nums) - 2\n",
    "    while pivot >= 0 and nums[pivot] >= nums[pivot + 1]:\n",
    "        pivot -= 1\n",
    "\n",
    "    if pivot >= 0:\n",
    "        # Find the next-largest number to swap with\n",
    "        successor = len(nums) - 1\n",
    "        while (successor > 0 and nums[successor] <= nums[pivot]):\n",
    "            successor -= 1\n",
    "        swap(nums, pivot, successor)\n",
    "\n",
    "    reverse(nums, pivot + 1, len(nums) - 1)"
   ]
  }
 ],
 "metadata": {
  "kernelspec": {
   "display_name": "Python 3",
   "language": "python",
   "name": "python3"
  },
  "language_info": {
   "codemirror_mode": {
    "name": "ipython",
    "version": 3
   },
   "file_extension": ".py",
   "mimetype": "text/x-python",
   "name": "python",
   "nbconvert_exporter": "python",
   "pygments_lexer": "ipython3",
   "version": "3.6.5"
  }
 },
 "nbformat": 4,
 "nbformat_minor": 2
}
