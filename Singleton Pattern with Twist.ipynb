{
 "cells": [
  {
   "cell_type": "markdown",
   "metadata": {},
   "source": [
    "# Question"
   ]
  },
  {
   "cell_type": "raw",
   "metadata": {},
   "source": [
    "Implement the singleton pattern with a twist. First, instead of storing one instance, store two instances. And in every even call of getInstance(), return the first instance and in every odd call of getInstance(), return the second instance."
   ]
  },
  {
   "cell_type": "markdown",
   "metadata": {},
   "source": [
    "# Explanation"
   ]
  },
  {
   "cell_type": "raw",
   "metadata": {},
   "source": [
    "\n",
    "This question is more about programming and design patterns than computer science.\n",
    "\n",
    "The singleton pattern allows you to limit the number of objects of a class to one instance. This is helpful in a large application either to conserve resources such as memory or to make correctness easier to reason about. For example, to represent configuration of a system, it would be helpful to have one centralized object.\n",
    "\n",
    "In this particular question, we ask for a twist on the classic singleton by allowing two instances of a class. We do this by adding another static field as well as calls variable to keep track of the number of calls made to getInstance."
   ]
  },
  {
   "cell_type": "markdown",
   "metadata": {},
   "source": [
    "# Code"
   ]
  },
  {
   "cell_type": "raw",
   "metadata": {},
   "source": [
    "public class Service {\n",
    "   private static Service instanceOne = null;\n",
    "   private static Service instanceTwo = null;\n",
    "\n",
    "   private static int calls = 0;\n",
    "\n",
    "   private Service() {\n",
    "      // Disallow creation through the constructor\n",
    "   }\n",
    "\n",
    "   public static Service getInstance() {\n",
    "      if(instanceOne == null) {\n",
    "         instanceOne = new Service();\n",
    "         instanceTwo = new Service();\n",
    "      }\n",
    "\n",
    "      if (calls++ % 2 == 0) {\n",
    "        return instanceOne;\n",
    "      }\n",
    "      return instanceTwo;\n",
    "   }\n",
    "}"
   ]
  }
 ],
 "metadata": {
  "kernelspec": {
   "display_name": "Python 3",
   "language": "python",
   "name": "python3"
  },
  "language_info": {
   "codemirror_mode": {
    "name": "ipython",
    "version": 3
   },
   "file_extension": ".py",
   "mimetype": "text/x-python",
   "name": "python",
   "nbconvert_exporter": "python",
   "pygments_lexer": "ipython3",
   "version": "3.6.5"
  }
 },
 "nbformat": 4,
 "nbformat_minor": 2
}
