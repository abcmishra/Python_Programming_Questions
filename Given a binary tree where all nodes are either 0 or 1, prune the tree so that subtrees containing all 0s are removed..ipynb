{
 "cells": [
  {
   "cell_type": "raw",
   "metadata": {},
   "source": [
    "Given a binary tree where all nodes are either 0 or 1, prune the tree so that subtrees containing all 0s are removed.\n",
    "\n",
    "For example, given the following tree:\n",
    "\n",
    "   0\n",
    "  / \\\n",
    " 1   0\n",
    "    / \\\n",
    "   1   0\n",
    "  / \\\n",
    " 0   0\n",
    "should be pruned to:\n",
    "\n",
    "   0\n",
    "  / \\\n",
    " 1   0\n",
    "    /\n",
    "   1\n",
    "We do not remove the tree at the root or its left child because it still has a 1 as a descendant."
   ]
  },
  {
   "cell_type": "raw",
   "metadata": {},
   "source": [
    "If we think about prune recursively and assume that it works, then we can run prune on our input tree's left and right child and it should get rid of all subtrees that are wholly 0s. By that logic, if there is still a left or right child then this the current tree cannot be wholly 0s. So the only remaining cases are:\n",
    "\n",
    "When the root itself is null, just return null\n",
    "When the root's value is 0 and it is a leaf, then it should return null\n",
    "Remember to prune the tree first before checking its subtrees."
   ]
  },
  {
   "cell_type": "code",
   "execution_count": 1,
   "metadata": {},
   "outputs": [],
   "source": [
    "def prune(root):\n",
    "    if root is None:\n",
    "        return root\n",
    "\n",
    "    root.left, root.right = prune(root.left), prune(root.right)\n",
    "\n",
    "    if root.left is None and root.right is None and root.val == 0:\n",
    "        return None\n",
    "\n",
    "    return root"
   ]
  },
  {
   "cell_type": "raw",
   "metadata": {},
   "source": [
    "\n",
    "This takes O(n) time and O(h) space, since we traverse the entire tree.\n",
    "\n",
    "This is your coding interview problem for today."
   ]
  }
 ],
 "metadata": {
  "kernelspec": {
   "display_name": "Python 3",
   "language": "python",
   "name": "python3"
  },
  "language_info": {
   "codemirror_mode": {
    "name": "ipython",
    "version": 3
   },
   "file_extension": ".py",
   "mimetype": "text/x-python",
   "name": "python",
   "nbconvert_exporter": "python",
   "pygments_lexer": "ipython3",
   "version": "3.6.5"
  }
 },
 "nbformat": 4,
 "nbformat_minor": 2
}
