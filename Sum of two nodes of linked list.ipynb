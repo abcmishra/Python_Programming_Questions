{
 "cells": [
  {
   "cell_type": "markdown",
   "metadata": {},
   "source": [
    "# Question"
   ]
  },
  {
   "cell_type": "raw",
   "metadata": {},
   "source": [
    "Let's represent an integer in a linked list format by having each node represent a digit in the number. The nodes make up the number in reversed order.\n",
    "\n",
    "For example, the following linked list:\n",
    "\n",
    "1 -> 2 -> 3 -> 4 -> 5\n",
    "is the number 54321.\n",
    "\n",
    "Given two linked lists in this format, return their sum in the same linked list format.\n",
    "\n",
    "For example, given\n",
    "\n",
    "9 -> 9\n",
    "5 -> 2\n",
    "return 124 (99 + 25) as:\n",
    "\n",
    "4 -> 2 -> "
   ]
  },
  {
   "cell_type": "raw",
   "metadata": {},
   "source": [
    "\n",
    "We can add two numbers using the same process as elementary grade school addition — add the least significant digits with a carry.\n",
    "\n",
    "We'll start at the head of the two nodes, and compute sum % 10. We write this down, move the two nodes up and add a carry if the sum was greater than 10. A tricky part here is to finding the terminating condition. We can see that this happens when there is no more carry and the two linked lists have reached the end. Since this is tricky to represent in code, we instead extend the nodes one more until they are both None and carry is 0 and then simply return None."
   ]
  },
  {
   "cell_type": "code",
   "execution_count": 2,
   "metadata": {},
   "outputs": [],
   "source": [
    "class Node:\n",
    "    def __init__(self, val, next=None):\n",
    "        self.val = val\n",
    "        self.next = next\n",
    "\n",
    "def add(node0, node1, carry=0):\n",
    "    if not node0 and not node1 and not carry:\n",
    "        return None\n",
    "\n",
    "    node0_val = node0.val if node0 else 0\n",
    "    node1_val = node1.val if node1 else 0\n",
    "    total = node0_val + node1_val + carry\n",
    "\n",
    "    node0_next = node0.next if node0 else None\n",
    "    node1_next = node1.next if node1 else None\n",
    "    carry_next = 1 if total >= 10 else 0\n",
    "\n",
    "\n",
    "    return Node(total % 10, add(node0_next, node1_next, carry_next))"
   ]
  },
  {
   "cell_type": "raw",
   "metadata": {},
   "source": [
    "This will run in O(max(m, n)) time, where m and n are the lengths of the linked lists."
   ]
  },
  {
   "cell_type": "code",
   "execution_count": null,
   "metadata": {},
   "outputs": [],
   "source": []
  }
 ],
 "metadata": {
  "kernelspec": {
   "display_name": "Python 3",
   "language": "python",
   "name": "python3"
  },
  "language_info": {
   "codemirror_mode": {
    "name": "ipython",
    "version": 3
   },
   "file_extension": ".py",
   "mimetype": "text/x-python",
   "name": "python",
   "nbconvert_exporter": "python",
   "pygments_lexer": "ipython3",
   "version": "3.6.5"
  }
 },
 "nbformat": 4,
 "nbformat_minor": 2
}
