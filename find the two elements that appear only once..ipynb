{
 "cells": [
  {
   "cell_type": "raw",
   "metadata": {},
   "source": [
    "\n",
    "Given an array of integers in which two elements appear exactly once and all other elements appear exactly twice, find the two elements that appear only once.\n",
    "\n",
    "For example, given the array [2, 4, 6, 8, 10, 2, 6, 10], return 4 and 8. The order does not matter.\n",
    "\n",
    "Follow-up: Can you do this in linear time and constant space?"
   ]
  },
  {
   "cell_type": "raw",
   "metadata": {},
   "source": [
    "The naive solution here would be to use a dictionary to keep track of the counts of all the numbers, and then to iterate over the dictionary and just return the entries with count 1. That would look like this:\n"
   ]
  },
  {
   "cell_type": "code",
   "execution_count": 1,
   "metadata": {},
   "outputs": [],
   "source": [
    "from collections import defaultdict\n",
    "\n",
    "def array_two_elements_naive(arr):\n",
    "    d = defaultdict(int)\n",
    "    for num in arr:\n",
    "        d[num] += 1\n",
    "\n",
    "    result = []\n",
    "    for num, count in d.items():\n",
    "        if count == 1:\n",
    "            result.append(num)\n",
    "    return result"
   ]
  },
  {
   "cell_type": "raw",
   "metadata": {},
   "source": [
    "We can XOR all the numbers in our input array. Since all duplicates will cancel out, we'll end up getting the XOR of the two numbers we're looking for.\n",
    "However, we need to untangle the actual real numbers from this XOR'd result. The key here is to find a set bit the XOR'd result.\n",
    "Since the two numbers are unique and thus distinct, there must be a set bit. Let's call it i. Since this bit ended up set, that also means that the two numbers we're looking for differ at this bit. Let's call the unique number with i set x and the unique number with i not set y.\n",
    "Now we go through the array again. For each number, there are two cases:\n",
    "Bit i is set on that number. If so, then it might be x, so let's group it in a bucket.\n",
    "Bit i is not set on that number. If so, then it might be y, so let's group it in another bucket.\n",
    "Then we can XOR all the numbers in each bucket  to get the two numbers we're looking for."
   ]
  },
  {
   "cell_type": "code",
   "execution_count": 2,
   "metadata": {},
   "outputs": [],
   "source": [
    "def array_two_elements(arr):\n",
    "    xor = 0\n",
    "    for num in arr:\n",
    "        xor = xor ^ num\n",
    "\n",
    "    # Get rightmost set bit\n",
    "    xor = xor & -xor\n",
    "\n",
    "    rets = [0, 0]\n",
    "    for num in arr:\n",
    "        if num & xor:\n",
    "            rets[0] = rets[0] ^ num\n",
    "        else:\n",
    "            rets[1] = rets[1] ^ num\n",
    "    return rets"
   ]
  },
  {
   "cell_type": "raw",
   "metadata": {},
   "source": [
    "Why does xor & -xor get the rightmost set bit? This is a neat bit hack that uses Two's complement to isolate the rightmost set bit. In two's complement, -x = ~x + 1. ~x inverts all the bits in a number, and adding one to it will carry all the ones up until the first rightmost set bit in the original number x. Then, since we AND it with the original number, all the bits end up zero except for the rightmost set bit, which is what we're looking for!\n"
   ]
  }
 ],
 "metadata": {
  "kernelspec": {
   "display_name": "Python 3",
   "language": "python",
   "name": "python3"
  },
  "language_info": {
   "codemirror_mode": {
    "name": "ipython",
    "version": 3
   },
   "file_extension": ".py",
   "mimetype": "text/x-python",
   "name": "python",
   "nbconvert_exporter": "python",
   "pygments_lexer": "ipython3",
   "version": "3.6.5"
  }
 },
 "nbformat": 4,
 "nbformat_minor": 2
}
