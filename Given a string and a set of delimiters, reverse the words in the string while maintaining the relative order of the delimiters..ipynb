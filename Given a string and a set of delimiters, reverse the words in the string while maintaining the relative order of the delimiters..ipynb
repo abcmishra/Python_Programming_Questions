{
 "cells": [
  {
   "cell_type": "markdown",
   "metadata": {},
   "source": [
    "# Question"
   ]
  },
  {
   "cell_type": "raw",
   "metadata": {},
   "source": [
    "Given a string and a set of delimiters, reverse the words in the string while maintaining the relative order of the delimiters. For example, given \"hello/world:here\", return \"here/world:hello\"\n",
    "\n",
    "Follow-up: Does your solution work for the following cases: \"hello/world:here/\", \"hello//world:here\""
   ]
  },
  {
   "cell_type": "markdown",
   "metadata": {},
   "source": [
    "# Explanation"
   ]
  },
  {
   "cell_type": "raw",
   "metadata": {},
   "source": [
    "One way we can solve this problem is by splitting the input string into a list of words, and then reversing the order."
   ]
  },
  {
   "cell_type": "code",
   "execution_count": 1,
   "metadata": {},
   "outputs": [],
   "source": [
    "def reverse_words(string):\n",
    "    words = string.split(' ')\n",
    "    words = reversed(words)\n",
    "    return ' '.join(words)"
   ]
  },
  {
   "cell_type": "raw",
   "metadata": {},
   "source": [
    "This solution works in O(N) time, and uses O(N) space since we create a new list to hold the words, and a new string to represent the output."
   ]
  },
  {
   "cell_type": "raw",
   "metadata": {},
   "source": [
    "\n",
    "If we were given a mutable string representation instead of an immutable string, we can perform the reverse operation in-place. Let's assume we are given a list of characters, which we will modify in-place. We can easily reverse a substring within a string in O(N) time and O(1) space. However, simply reversing the entire string or reversing each word won't get return the correct solution -- we must do both operations. First, we reverse the entire string to get the string \"ereh dlrow olleh\". Then, we reverse each word within the string to obtain the original words: \"here world hello\"."
   ]
  },
  {
   "cell_type": "code",
   "execution_count": 2,
   "metadata": {},
   "outputs": [],
   "source": [
    "def reverse_words(string_list):\n",
    "    # Helper function to reverse string in place\n",
    "    def reverse(l, start, end):\n",
    "        # Reverses characters from index start to end (inclusive)\n",
    "        while start < end:\n",
    "            l[start], l[end] = l[end], l[start]\n",
    "            start += 1\n",
    "            end -=1\n",
    "\n",
    "    # Reverse the entire string\n",
    "    reverse(string_list, 0, len(string_list) - 1)\n",
    "\n",
    "    # Reverse each word in the string\n",
    "    start = 0\n",
    "    for end in range(len(string_list)):\n",
    "        if string_list[end] == ' ':\n",
    "            print(start, end)\n",
    "            reverse(string_list, start, end - 1)\n",
    "            start = end + 1\n",
    "    # Reverse the last word\n",
    "    reverse(string_list, start, len(string_list) - 1)\n",
    "\n",
    "    return string_list"
   ]
  },
  {
   "cell_type": "raw",
   "metadata": {},
   "source": [
    "This solution has a worst-case time complexity of O(N), since each character is swapped a maximum of two times. This solution also gives us a     worst-case space complexity of O(1)"
   ]
  },
  {
   "cell_type": "markdown",
   "metadata": {},
   "source": [
    "# Explanation"
   ]
  },
  {
   "cell_type": "raw",
   "metadata": {},
   "source": [
    "\n",
    "The algorithm seems rather straightforward, but there are quite a few edge cases. We need to make sure that we handle when there are multiple delimiters in a row, as well as delimiters at the beginning and/or end of the string. One way we can handle these cases is by iterating through the string, and adding delimiters to the output when they appear. When we reach a word, we add the word from the end of the string instead of the current word. In order to do this, we pre-process the string into a list of words and reverse the list."
   ]
  },
  {
   "cell_type": "code",
   "execution_count": 3,
   "metadata": {},
   "outputs": [],
   "source": [
    "import re\n",
    "\n",
    "def reverse(string, delimiters):\n",
    "    # Parse the string into words between delimiters using regex\n",
    "    # Keep adjacent delimiters together (\"greedy match\")\n",
    "    words = re.split('[' + delimiters + ']+', string)\n",
    "    if len(words) > 0 and words[-1] == '':\n",
    "        words = words[:-1]\n",
    "    # Reverse the list of words and convert to an iterator\n",
    "    word_iter = reversed(words)\n",
    "\n",
    "    output = []\n",
    "    delimiter_found = True\n",
    "    # Iterate through the original string\n",
    "    for c in string:\n",
    "        if c in delimiters:\n",
    "            # When we reach a delimiter, then set the word length to 0\n",
    "            delimiter_found = True\n",
    "            output.append(c)\n",
    "        else:\n",
    "            # We've reached a non-delimiter character\n",
    "            # If it's the first character of the word, add a word\n",
    "            # from our reversed list of words (word_iter).\n",
    "            if delimiter_found:\n",
    "                try:\n",
    "                    output.append(next(word_iter))\n",
    "                except StopIteration:\n",
    "                    pass\n",
    "            delimiter_found = False\n",
    "\n",
    "    return ''.join(output)"
   ]
  },
  {
   "cell_type": "raw",
   "metadata": {},
   "source": [
    "Both approaches take O(N) time and O(N) space, where N is the length of the input string."
   ]
  }
 ],
 "metadata": {
  "kernelspec": {
   "display_name": "Python 3",
   "language": "python",
   "name": "python3"
  },
  "language_info": {
   "codemirror_mode": {
    "name": "ipython",
    "version": 3
   },
   "file_extension": ".py",
   "mimetype": "text/x-python",
   "name": "python",
   "nbconvert_exporter": "python",
   "pygments_lexer": "ipython3",
   "version": "3.6.5"
  }
 },
 "nbformat": 4,
 "nbformat_minor": 2
}
