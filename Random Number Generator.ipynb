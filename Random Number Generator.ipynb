{
 "cells": [
  {
   "cell_type": "markdown",
   "metadata": {},
   "source": [
    "# Question"
   ]
  },
  {
   "cell_type": "raw",
   "metadata": {},
   "source": [
    "Given an integer n and a list of integers l, write a function that randomly generates a number from 0 to n-1 that isn't in l (uniform)."
   ]
  },
  {
   "cell_type": "markdown",
   "metadata": {},
   "source": [
    "# Explanation"
   ]
  },
  {
   "cell_type": "raw",
   "metadata": {},
   "source": [
    "One way we can approach this problem is by using rejection sampling(https://en.wikipedia.org/wiki/Rejection_sampling). First, we generate a (uniformly) random integer between 0 and n-1 (inclusive). Then, we check whether the random integer is found within the list l. If it is found, then generate repeat the process. If it is not found, then return that number. To make sure we can check for the presence of a number in O(1) time, we can put all integers in l in a set.\n",
    "\n",
    "Since this solution involves repeatedly generating a new random number, it could have up to infinite worst-case runtime. The initial call also incurs O(N) to convert list into a set. The probability of selecting a random number depends on the the ratio of numbers in l that are within the bounds 0 to n-1, versus the number n.\n",
    "\n",
    "Another way we can approach this problem is by generating a random number strictly from the numbers available. We can construct the list of numbers of available by subtracting the set of integers in l from the set of integers in the range 0 to n-1. Then, we can simply generate a random number within 0 and the length of this new list, and return the integer at that index.\n",
    "This solution takes O(N) time to pre-process the list, and O(1) time to generate a random integer.\n"
   ]
  },
  {
   "cell_type": "markdown",
   "metadata": {},
   "source": [
    "# Code"
   ]
  },
  {
   "cell_type": "code",
   "execution_count": 5,
   "metadata": {},
   "outputs": [],
   "source": [
    "from random import randrange\n",
    "\n",
    "def process_list(n,l):\n",
    "    all_nums_set=set()\n",
    "    for i in range(n):\n",
    "        all_nums_set.add(i)\n",
    "    l_set=set(l)\n",
    "    nums_set=all_nums_set-l_set\n",
    "    return list(nums_set)\n",
    "def random_number_excluding_list(n,l):\n",
    "    nums_list=process_list(n,l)\n",
    "    idx=randrange(0,len(nums_list))\n",
    "    return nums_list[idx]\n",
    "\n"
   ]
  },
  {
   "cell_type": "code",
   "execution_count": 7,
   "metadata": {},
   "outputs": [
    {
     "name": "stdout",
     "output_type": "stream",
     "text": [
      "0\n"
     ]
    }
   ],
   "source": [
    "print(random_number_excluding_list(4,[1,2,5]))"
   ]
  },
  {
   "cell_type": "code",
   "execution_count": null,
   "metadata": {},
   "outputs": [],
   "source": []
  }
 ],
 "metadata": {
  "kernelspec": {
   "display_name": "Python 3",
   "language": "python",
   "name": "python3"
  },
  "language_info": {
   "codemirror_mode": {
    "name": "ipython",
    "version": 3
   },
   "file_extension": ".py",
   "mimetype": "text/x-python",
   "name": "python",
   "nbconvert_exporter": "python",
   "pygments_lexer": "ipython3",
   "version": "3.6.5"
  }
 },
 "nbformat": 4,
 "nbformat_minor": 2
}
