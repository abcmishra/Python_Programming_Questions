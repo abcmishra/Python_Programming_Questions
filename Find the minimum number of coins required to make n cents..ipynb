{
 "cells": [
  {
   "cell_type": "raw",
   "metadata": {},
   "source": [
    "Find the minimum number of coins required to make n cents.\n",
    "\n",
    "You can use standard American denominations, that is, 1¢, 5¢, 10¢, and 25¢.\n",
    "\n",
    "For example, given n = 16, return 3 since we can make it with a 10¢, a 5¢, and a 1¢."
   ]
  },
  {
   "cell_type": "raw",
   "metadata": {},
   "source": [
    "If we think about this problem recursively, we can assume we already have a minimum_coin(n) function and do the following:\n",
    "\n",
    "Calculate the minimum number of coins to make n - denomination for each denomination if it's valid\n",
    "Return the min of these, plus one (to account for adding that coin).\n",
    "Then, we can figure out the base cases:\n",
    "\n",
    "If n is 0, then we can make that with 0 coins.\n",
    "If n is one of the denominations 1, 5, 10, 25, then return 1."
   ]
  },
  {
   "cell_type": "code",
   "execution_count": 1,
   "metadata": {},
   "outputs": [],
   "source": [
    "DENOMINATIONS = [1, 5, 10, 25]\n",
    "\n",
    "def minimum_coins(n):\n",
    "    if n == 0:\n",
    "        return 0\n",
    "    elif n in DENOMINATIONS:\n",
    "        return 1\n",
    "    else:\n",
    "        return min(1 + minimum_coins(n - d) for d in DENOMINATIONS if n - d >= 0)"
   ]
  },
  {
   "cell_type": "raw",
   "metadata": {},
   "source": [
    "This will run really slowly -- in exponential time, since for each call we're making up to 4 calls recursively and only decrementing our input by a constant value. To improve performance, we can use dynamic programming to keep an of all of our previous results. Now we can just look up values in the array instead of repeating sub computations."
   ]
  },
  {
   "cell_type": "code",
   "execution_count": 3,
   "metadata": {},
   "outputs": [],
   "source": [
    "DENOMINATIONS = [1, 5, 10, 25]\n",
    "\n",
    "def minimum_coins_dp(n):\n",
    "    cache = [0 for _ in range(n + 1)]\n",
    "\n",
    "    for d in DENOMINATIONS:\n",
    "        if d < len(cache):\n",
    "            cache[d] = 1\n",
    "\n",
    "    for i in range(1, n + 1):\n",
    "        cache[i] = min(1 + cache[i - d] for d in DENOMINATIONS if i - d >= 0)\n",
    "\n",
    "    return cache[n]"
   ]
  },
  {
   "cell_type": "raw",
   "metadata": {},
   "source": [
    "Now this runs in O(n) time and space."
   ]
  }
 ],
 "metadata": {
  "kernelspec": {
   "display_name": "Python 3",
   "language": "python",
   "name": "python3"
  },
  "language_info": {
   "codemirror_mode": {
    "name": "ipython",
    "version": 3
   },
   "file_extension": ".py",
   "mimetype": "text/x-python",
   "name": "python",
   "nbconvert_exporter": "python",
   "pygments_lexer": "ipython3",
   "version": "3.6.5"
  }
 },
 "nbformat": 4,
 "nbformat_minor": 2
}
