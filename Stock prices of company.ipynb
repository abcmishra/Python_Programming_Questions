{
 "cells": [
  {
   "cell_type": "markdown",
   "metadata": {},
   "source": [
    "# Question"
   ]
  },
  {
   "cell_type": "raw",
   "metadata": {},
   "source": [
    "Given an array of numbers representing the stock prices of a company in chronological order and an integer k, return the maximum profit you can make from k buys and sells. You must buy the stock before you can sell it, and you must sell the stock before you can buy it again.\n",
    "\n",
    "For example, given k = 2 and the array [5, 2, 4, 0, 1], you should return 3"
   ]
  },
  {
   "cell_type": "markdown",
   "metadata": {},
   "source": [
    "# Code"
   ]
  },
  {
   "cell_type": "raw",
   "metadata": {},
   "source": [
    "Let's consider the last price in the array. Either we used that price in a transaction or we didn't. Thus, the max profit for our input should be the max of either:\n",
    "\n",
    "The max profit of prices[:-1] using k transactions (we didn't use the last price)\n",
    "The best you can get by selling the stock on the last day (we use the last price)\n",
    "We can use dynamic programming to represent the maximum profit we can get. Let dp[i][j] represent the maximum profit using at most i transactions up to day j (inclusive).\n",
    "\n",
    "So the recurrence is:\n",
    "\n",
    "dp[0][j] = 0 # If k = 0 then no way to profit\n",
    "dp[i][0] = 0 # If no prices then no way to profit\n",
    "\n",
    "dp[i][j] = max(\n",
    "    dp[i][j - 1], # We don't use the last price\n",
    "    max(price[j] - price[m] + dp[i - 1][m] for m in range(j)) # Best we can do by completing last transaction on jth day\n",
    ")\n",
    "So let's build our matrix bottom-up and fill it according to the recurrence:"
   ]
  },
  {
   "cell_type": "code",
   "execution_count": 1,
   "metadata": {},
   "outputs": [],
   "source": [
    "from math import inf\n",
    "\n",
    "def max_profit(k, prices):\n",
    "    n = len(prices)\n",
    "    dp = [[0 for _ in range(n)] for _ in range(k + 1)]\n",
    "\n",
    "    for i in range(k + 1):\n",
    "        dp[i][0] = 0\n",
    "\n",
    "    for j in range(n):\n",
    "        dp[0][j] = 0\n",
    "\n",
    "    for i in range(1, k + 1):\n",
    "        for j in range(1, n):\n",
    "            best_so_far = -inf\n",
    "            for m in range(j):\n",
    "                best_so_far = max(best_so_far, prices[j] - prices[m] + dp[i - 1][m])\n",
    "            dp[i][j] = max(best_so_far, dp[i][j - 1])\n",
    "\n",
    "    return dp[k][n - 1]"
   ]
  },
  {
   "cell_type": "raw",
   "metadata": {},
   "source": [
    "This will run in O(kn^2) time and take O(kn) space.\n",
    "\n",
    "We can improve the time complexity by noticing that we're redoing some of the same calculations in the innermost for loop. In the term prices[j] - prices[m] + dp[i - 1][m], prices[j] stays constant and the rest of the term can be factored into the outer loop."
   ]
  },
  {
   "cell_type": "code",
   "execution_count": 2,
   "metadata": {},
   "outputs": [],
   "source": [
    "from math import inf\n",
    "\n",
    "def max_profit(k, prices):\n",
    "    n = len(prices)\n",
    "    dp = [[0 for _ in range(n)] for _ in range(k + 1)]\n",
    "\n",
    "    for i in range(k + 1):\n",
    "        dp[i][0] = 0\n",
    "\n",
    "    for j in range(n):\n",
    "        dp[0][j] = 0\n",
    "\n",
    "    for i in range(1, k + 1):\n",
    "        best_so_far = -inf\n",
    "        for j in range(1, n):\n",
    "            best_so_far = max(best_so_far, dp[i - 1][j - 1] - prices[j - 1])\n",
    "            dp[i][j] = max(dp[i][j - 1], prices[j] + best_so_far)\n",
    "\n",
    "    return dp[k][n - 1]"
   ]
  },
  {
   "cell_type": "raw",
   "metadata": {},
   "source": [
    "Now that we got rid of the inner for loop, this runs in O(kn) time and space."
   ]
  }
 ],
 "metadata": {
  "kernelspec": {
   "display_name": "Python 3",
   "language": "python",
   "name": "python3"
  },
  "language_info": {
   "codemirror_mode": {
    "name": "ipython",
    "version": 3
   },
   "file_extension": ".py",
   "mimetype": "text/x-python",
   "name": "python",
   "nbconvert_exporter": "python",
   "pygments_lexer": "ipython3",
   "version": "3.6.5"
  }
 },
 "nbformat": 4,
 "nbformat_minor": 2
}
