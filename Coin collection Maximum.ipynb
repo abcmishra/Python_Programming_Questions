{
 "cells": [
  {
   "cell_type": "markdown",
   "metadata": {},
   "source": [
    "# Question"
   ]
  },
  {
   "cell_type": "raw",
   "metadata": {},
   "source": [
    "You are given a 2-d matrix where each cell represents number of coins in that cell. Assuming we start at matrix[0][0], and can only move right or down, find the maximum number of coins you can collect by the bottom right corner.\n",
    "\n",
    "For example, in this matrix\n",
    "\n",
    "0 3 1 1\n",
    "2 0 0 4\n",
    "1 5 3 1\n",
    "The most we can collect is 0 + 2 + 1 + 5 + 3 + 1 = 12 coins."
   ]
  },
  {
   "cell_type": "markdown",
   "metadata": {},
   "source": [
    "# Solution"
   ]
  },
  {
   "cell_type": "raw",
   "metadata": {},
   "source": [
    "Notice the recursive structure of this problem.\n",
    "\n",
    "If we're at the bottom-right corner of the matrix, the most amount of coins we can collect is that cell.\n",
    "If we're at the bottom of the matrix, the most amount of coins we can collect is that cell and amount we can collect by movinrg right.\n",
    "If we're at the rightmost part the matrix, the most amount of coins we can collect is that cell and amount we can collect by moving down.\n",
    "Otherwise, the most amount of coins we can collect is that cell and the max of either the most amount we can collect from moving right or the most amount we can collect from moving down.\n",
    "For example, in the following matrix,\n",
    "\n",
    "0 2 3\n",
    "5 4 9\n",
    "6 7 1\n",
    "In the 1 cell, bottom-right cell, the most we can collect is that cell: 1.\n",
    "In the 7 cell, a bottom cell, we can only collect by taking coins from the right: 7 + 1.\n",
    "In the 9 cell, a right-most cell, we can only collect by taking coins from below 9 + 1.\n",
    "In the 4 cell, a non-edge cell, we can collect 4 plus the max of going right or going down: 4 + max(9 + 1, 7 + 1) == 14.\n",
    "This leads itself to the following code:"
   ]
  },
  {
   "cell_type": "markdown",
   "metadata": {},
   "source": [
    "# Code"
   ]
  },
  {
   "cell_type": "code",
   "execution_count": 1,
   "metadata": {},
   "outputs": [],
   "source": [
    "def collect_coins(matrix, r=0, c=0, cache=None):\n",
    "    if cache is None:\n",
    "        cache = {}\n",
    "\n",
    "    num_rows = len(matrix)\n",
    "    num_cols = len(matrix[0])\n",
    "\n",
    "    is_bottom = r == num_rows - 1\n",
    "    is_rightmost = c == num_cols - 1\n",
    "\n",
    "    if (r, c) not in cache:\n",
    "\n",
    "        if is_bottom and is_rightmost:\n",
    "            cache[r, c] = matrix[r][c]\n",
    "        elif is_bottom:\n",
    "            cache[r, c] = matrix[r][c] + collect_coins(matrix, r, c + 1, cache)\n",
    "        elif is_rightmost:\n",
    "            cache[r, c] = matrix[r][c] + collect_coins(matrix, r + 1, c, cache)\n",
    "        else:\n",
    "            cache[r, c] = matrix[r][c] + max(collect_coins(matrix, r + 1, c, cache),\n",
    "                                             collect_coins(matrix, r, c + 1, cache))\n",
    "\n",
    "    return cache[r, c]"
   ]
  },
  {
   "cell_type": "raw",
   "metadata": {},
   "source": [
    "This is O(MN) both space and time since we compute the solution for each cell at most once."
   ]
  }
 ],
 "metadata": {
  "kernelspec": {
   "display_name": "Python 3",
   "language": "python",
   "name": "python3"
  },
  "language_info": {
   "codemirror_mode": {
    "name": "ipython",
    "version": 3
   },
   "file_extension": ".py",
   "mimetype": "text/x-python",
   "name": "python",
   "nbconvert_exporter": "python",
   "pygments_lexer": "ipython3",
   "version": "3.6.5"
  }
 },
 "nbformat": 4,
 "nbformat_minor": 2
}
