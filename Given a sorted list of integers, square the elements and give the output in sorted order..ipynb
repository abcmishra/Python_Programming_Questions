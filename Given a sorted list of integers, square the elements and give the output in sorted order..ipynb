{
 "cells": [
  {
   "cell_type": "markdown",
   "metadata": {},
   "source": [
    "# Question"
   ]
  },
  {
   "cell_type": "raw",
   "metadata": {},
   "source": [
    "Given a sorted list of integers, square the elements and give the output in sorted order.\n",
    "\n",
    "For example, given [-9, -2, 0, 2, 3], return [0, 4, 4, 9, 81]."
   ]
  },
  {
   "cell_type": "markdown",
   "metadata": {},
   "source": [
    "# Explanation"
   ]
  },
  {
   "cell_type": "raw",
   "metadata": {},
   "source": [
    "A brute force method would be to simply square and sort the list, like so: sorted([x ** 2 for x in lst]). This would result in O(n log n) time.\n",
    "\n",
    "A fater way to do this would be to notice that there are two natural sublists in lst: The positive numbers and negative numbers.\n",
    "\n",
    "The positive numbers, if sorted, would still remain sorted, while negative numbers, if sorted, would be reverse sorted. So by reversing the negative numbers and then sorting it we get two sorted sections in lst. Then we can apply a merge operation, similar to merge sort."
   ]
  },
  {
   "cell_type": "markdown",
   "metadata": {},
   "source": [
    "# Code"
   ]
  },
  {
   "cell_type": "code",
   "execution_count": 1,
   "metadata": {},
   "outputs": [],
   "source": [
    "def square_sort(lst):\n",
    "    negatives = [x for x in lst if x < 0]\n",
    "    non_negatives = [x for x in lst if x >= 0]\n",
    "\n",
    "    negatives_square_sorted = [x ** 2 for x in reversed(negatives)]\n",
    "    non_negatives_square_sorted = [x ** 2 for x in non_negatives]\n",
    "\n",
    "    return _merge(negatives_square_sorted, non_negatives_square_sorted)\n",
    "\n",
    "\n",
    "def _merge(left_lst, right_lst):\n",
    "    result = []\n",
    "\n",
    "    i = j = 0\n",
    "\n",
    "    while i < len(left_lst) and j < len(right_lst):\n",
    "        if left_lst[i] < right_lst[j]:\n",
    "            result.append(left_lst[i])\n",
    "            i += 1\n",
    "        elif left_lst[i] > right_lst[j]:\n",
    "            result.append(right_lst[j])\n",
    "            j += 1\n",
    "        else:\n",
    "            result.append(left_lst[i])\n",
    "            result.append(right_lst[j])\n",
    "            i += 1\n",
    "            j += 1\n",
    "\n",
    "    result.extend(left_lst[i:])\n",
    "    result.extend(right_lst[j:])\n",
    "    return result"
   ]
  },
  {
   "cell_type": "raw",
   "metadata": {},
   "source": [
    "This takes O(N) time."
   ]
  },
  {
   "cell_type": "code",
   "execution_count": null,
   "metadata": {},
   "outputs": [],
   "source": []
  }
 ],
 "metadata": {
  "kernelspec": {
   "display_name": "Python 3",
   "language": "python",
   "name": "python3"
  },
  "language_info": {
   "codemirror_mode": {
    "name": "ipython",
    "version": 3
   },
   "file_extension": ".py",
   "mimetype": "text/x-python",
   "name": "python",
   "nbconvert_exporter": "python",
   "pygments_lexer": "ipython3",
   "version": "3.6.5"
  }
 },
 "nbformat": 4,
 "nbformat_minor": 2
}
