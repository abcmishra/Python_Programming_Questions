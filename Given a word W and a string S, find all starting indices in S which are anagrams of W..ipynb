{
 "cells": [
  {
   "cell_type": "markdown",
   "metadata": {},
   "source": [
    "# Question"
   ]
  },
  {
   "cell_type": "raw",
   "metadata": {},
   "source": [
    "Given a word W and a string S, find all starting indices in S which are anagrams of W.\n",
    "\n",
    "For example, given that W is \"ab\", and S is \"abxaba\", return 0, 3, and 4."
   ]
  },
  {
   "cell_type": "markdown",
   "metadata": {},
   "source": [
    "# Explanation"
   ]
  },
  {
   "cell_type": "raw",
   "metadata": {},
   "source": [
    "\n",
    "Brute force\n",
    "The brute force solution here would be to go over each word-sized window in S and check if they're anagrams, like so:"
   ]
  },
  {
   "cell_type": "markdown",
   "metadata": {},
   "source": [
    "# Code"
   ]
  },
  {
   "cell_type": "code",
   "execution_count": 1,
   "metadata": {},
   "outputs": [],
   "source": [
    "from collections import Counter\n",
    "\n",
    "def is_anagram(s1, s2):\n",
    "    return Counter(s1) == Counter(s2)\n",
    "\n",
    "def anagram_indices(word, s):\n",
    "    result = []\n",
    "    for i in range(len(s) - len(word) + 1):\n",
    "        window = s[i:i + len(word)]\n",
    "        if is_anagram(window, word):\n",
    "            result.append(i)\n",
    "    return result"
   ]
  },
  {
   "cell_type": "raw",
   "metadata": {},
   "source": [
    "This would take O(|W| * |S|) time. Can we do this any faster?"
   ]
  },
  {
   "cell_type": "raw",
   "metadata": {},
   "source": [
    "Count difference\n",
    "Notice that moving along the window seems to mean recomputing the frequency counts of the entire window, when only a little bit of it actually updated. This insight lead us to the following strategy:\n",
    "\n",
    "Make a frequency dictionary of the target word\n",
    "Continuously diff against it as we go along the string\n",
    "When the dict is empty, the window and the word matches\n",
    "We diff in our frequency dict by incrementing the new character in the window and removing old one."
   ]
  },
  {
   "cell_type": "code",
   "execution_count": 2,
   "metadata": {},
   "outputs": [],
   "source": [
    "class FrequencyDict:\n",
    "    def __init__(self, s):\n",
    "        self.d = {}\n",
    "        for char in s:\n",
    "            self.increment(char)\n",
    "\n",
    "    def _create_if_not_exists(self, char):\n",
    "        if char not in self.d:\n",
    "            self.d[char] = 0\n",
    "\n",
    "    def _del_if_zero(self, char):\n",
    "        if self.d[char] == 0:\n",
    "            del self.d[char]\n",
    "\n",
    "    def is_empty(self):\n",
    "        return not self.d\n",
    "\n",
    "    def decrement(self, char):\n",
    "        self._create_if_not_exists(char)\n",
    "        self.d[char] -= 1\n",
    "        self._del_if_zero(char)\n",
    "\n",
    "    def increment(self, char):\n",
    "        self._create_if_not_exists(char)\n",
    "        self.d[char] += 1\n",
    "        self._del_if_zero(char)\n",
    "\n",
    "\n",
    "def anagram_indices(word, s):\n",
    "    result = []\n",
    "\n",
    "    freq = FrequencyDict(word)\n",
    "\n",
    "    for char in s[:len(word)]:\n",
    "        freq.decrement(char)\n",
    "\n",
    "    if freq.is_empty():\n",
    "        result.append(0)\n",
    "\n",
    "    for i in range(len(word), len(s)):\n",
    "        start_char, end_char = s[i - len(word)], s[i]\n",
    "        freq.increment(start_char)\n",
    "        freq.decrement(end_char)\n",
    "        if freq.is_empty():\n",
    "            beginning_index = i - len(word) + 1\n",
    "            result.append(beginning_index)\n",
    "\n",
    "    return result"
   ]
  },
  {
   "cell_type": "raw",
   "metadata": {},
   "source": [
    "This should run in O(S) time."
   ]
  },
  {
   "cell_type": "code",
   "execution_count": null,
   "metadata": {},
   "outputs": [],
   "source": []
  }
 ],
 "metadata": {
  "kernelspec": {
   "display_name": "Python 3",
   "language": "python",
   "name": "python3"
  },
  "language_info": {
   "codemirror_mode": {
    "name": "ipython",
    "version": 3
   },
   "file_extension": ".py",
   "mimetype": "text/x-python",
   "name": "python",
   "nbconvert_exporter": "python",
   "pygments_lexer": "ipython3",
   "version": "3.6.5"
  }
 },
 "nbformat": 4,
 "nbformat_minor": 2
}
