{
 "cells": [
  {
   "cell_type": "markdown",
   "metadata": {},
   "source": [
    "# Question"
   ]
  },
  {
   "cell_type": "raw",
   "metadata": {},
   "source": [
    "Given an even number (greater than 2), return two prime numbers whose sum will be equal to the given number.\n",
    "\n",
    "A solution will always exist. See Goldbach’s conjecture.\n",
    "\n",
    "Example:\n",
    "\n",
    "Input: 4\n",
    "Output: 2 + 2 = 4\n",
    "If there are more than one solution possible, return the lexicographically smaller solution.\n",
    "\n",
    "If [a, b] is one solution with a <= b, and [c, d] is another solution with c <= d, then\n",
    "\n",
    "[a, b] < [c, d]\n",
    "If a < c OR a==c AND b < d."
   ]
  },
  {
   "cell_type": "markdown",
   "metadata": {},
   "source": [
    "# Solution"
   ]
  },
  {
   "cell_type": "raw",
   "metadata": {},
   "source": [
    "We can search for the smallest solution by iterating through possible values of the first potential prime. We check whether the first and second numbers are prime, and if so, return them."
   ]
  },
  {
   "cell_type": "code",
   "execution_count": 2,
   "metadata": {},
   "outputs": [],
   "source": [
    "def primesum(self, n):\n",
    "    for i in xrange(2, n):\n",
    "        if self.is_prime(i) and self.is_prime(n - i):\n",
    "            return i, n - i\n",
    "\n",
    "def is_prime(self, n):\n",
    "    if n < 2:\n",
    "        return False\n",
    "\n",
    "    for i in xrange(2, int(n**0.5) + 1):\n",
    "        if n % i == 0:\n",
    "            return False\n",
    "\n",
    "    return True"
   ]
  },
  {
   "cell_type": "code",
   "execution_count": null,
   "metadata": {},
   "outputs": [],
   "source": []
  }
 ],
 "metadata": {
  "kernelspec": {
   "display_name": "Python 3",
   "language": "python",
   "name": "python3"
  },
  "language_info": {
   "codemirror_mode": {
    "name": "ipython",
    "version": 3
   },
   "file_extension": ".py",
   "mimetype": "text/x-python",
   "name": "python",
   "nbconvert_exporter": "python",
   "pygments_lexer": "ipython3",
   "version": "3.6.5"
  }
 },
 "nbformat": 4,
 "nbformat_minor": 2
}
