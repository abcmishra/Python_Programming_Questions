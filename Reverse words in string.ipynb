{
 "cells": [
  {
   "cell_type": "markdown",
   "metadata": {},
   "source": [
    "# Question"
   ]
  },
  {
   "cell_type": "raw",
   "metadata": {},
   "source": [
    "Given a string of words delimited by spaces, reverse the words in string. For example, given \"hello world here\", return \"here world hello\"\n",
    "\n",
    "Follow-up: given a mutable string representation, can you perform this operation in-place?"
   ]
  },
  {
   "cell_type": "markdown",
   "metadata": {},
   "source": [
    "# Explanation"
   ]
  },
  {
   "cell_type": "raw",
   "metadata": {},
   "source": [
    "One way we can solve this problem is by splitting the input string into a list of words, and then reversing the order."
   ]
  },
  {
   "cell_type": "markdown",
   "metadata": {},
   "source": [
    "# Code"
   ]
  },
  {
   "cell_type": "code",
   "execution_count": 2,
   "metadata": {},
   "outputs": [],
   "source": [
    "def reverse_words(string):\n",
    "    words = string.split(' ')\n",
    "    words = reversed(words)\n",
    "    return ' '.join(words)"
   ]
  },
  {
   "cell_type": "raw",
   "metadata": {},
   "source": [
    "This solution works in O(N) time, and uses O(N) space since we create a new list to hold the words, and a new string to represent the output.\n",
    "\n",
    "If we were given a mutable string representation instead of an immutable string, we can perform the reverse operation in-place. Let's assume we are given a list of characters, which we will modify in-place. We can easily reverse a substring within a string in O(N) time and O(1) space. However, simply reversing the entire string or reversing each word won't get return the correct solution -- we must do both operations. First, we reverse the entire string to get the string \"ereh dlrow olleh\". Then, we reverse each word within the string to obtain the original words: \"here world hello\"."
   ]
  },
  {
   "cell_type": "code",
   "execution_count": 3,
   "metadata": {},
   "outputs": [],
   "source": [
    "def reverse_words(string_list):\n",
    "    # Helper function to reverse string in place\n",
    "    def reverse(l, start, end):\n",
    "        # Reverses characters from index start to end (inclusive)\n",
    "        while start < end:\n",
    "            l[start], l[end] = l[end], l[start]\n",
    "            start += 1\n",
    "            end -=1\n",
    "\n",
    "    # Reverse the entire string\n",
    "    reverse(string_list, 0, len(string_list) - 1)\n",
    "\n",
    "    # Reverse each word in the string\n",
    "    start = 0\n",
    "    for end in range(len(string_list)):\n",
    "        if string_list[end] == ' ':\n",
    "            print(start, end)\n",
    "            reverse(string_list, start, end - 1)\n",
    "            start = end + 1\n",
    "    # Reverse the last word\n",
    "    reverse(string_list, start, len(string_list) - 1)\n",
    "\n",
    "    return string_list"
   ]
  },
  {
   "cell_type": "raw",
   "metadata": {},
   "source": [
    "This solution has a worst-case time complexity of O(N), since each character is swapped a maximum of two times. This solution also gives us a     worst-case space complexity of O(1)."
   ]
  }
 ],
 "metadata": {
  "kernelspec": {
   "display_name": "Python 3",
   "language": "python",
   "name": "python3"
  },
  "language_info": {
   "codemirror_mode": {
    "name": "ipython",
    "version": 3
   },
   "file_extension": ".py",
   "mimetype": "text/x-python",
   "name": "python",
   "nbconvert_exporter": "python",
   "pygments_lexer": "ipython3",
   "version": "3.6.5"
  }
 },
 "nbformat": 4,
 "nbformat_minor": 2
}
