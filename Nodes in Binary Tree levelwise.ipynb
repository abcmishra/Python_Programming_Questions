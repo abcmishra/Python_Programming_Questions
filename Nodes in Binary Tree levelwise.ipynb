{
 "cells": [
  {
   "cell_type": "markdown",
   "metadata": {},
   "source": [
    "# Question"
   ]
  },
  {
   "cell_type": "raw",
   "metadata": {},
   "source": [
    "Print the nodes in a binary tree level-wise. For example, the following should print 1, 2, 3, 4, 5.\n",
    "\n",
    "  1\n",
    " / \\\n",
    "2   3\n",
    "     / \\\n",
    "    4  5"
   ]
  },
  {
   "cell_type": "markdown",
   "metadata": {},
   "source": [
    "# Solution"
   ]
  },
  {
   "cell_type": "raw",
   "metadata": {},
   "source": [
    "We can solve this problem by using a queue, initialized with the root, and continuously grabbing the first element and adding its left child and then its right child to the back of the queue, like so"
   ]
  },
  {
   "cell_type": "markdown",
   "metadata": {},
   "source": [
    "# Code"
   ]
  },
  {
   "cell_type": "code",
   "execution_count": 1,
   "metadata": {},
   "outputs": [
    {
     "name": "stdout",
     "output_type": "stream",
     "text": [
      "1\n",
      "2\n",
      "3\n",
      "4\n",
      "5\n"
     ]
    }
   ],
   "source": [
    "class Node:\n",
    "    def __init__(self, val, left=None, right=None):\n",
    "        self.val = val\n",
    "        self.left = left\n",
    "        self.right = right\n",
    "\n",
    "from queue import Queue\n",
    "\n",
    "def print_level_order(root):\n",
    "    queue = Queue()\n",
    "    queue.put(root)\n",
    "\n",
    "    while not queue.empty():\n",
    "        node = queue.get()\n",
    "        if node.left:\n",
    "            queue.put(node.left)\n",
    "        if node.right:\n",
    "            queue.put(node.right)\n",
    "        print(node.val)\n",
    "\n",
    "\n",
    "root = Node(1, Node(2), Node(3, Node(4), Node(5)))\n",
    "print_level_order(root)"
   ]
  },
  {
   "cell_type": "raw",
   "metadata": {},
   "source": [
    "This takes O(N) time and space, since we have to look at the whole tree.\n"
   ]
  }
 ],
 "metadata": {
  "kernelspec": {
   "display_name": "Python 3",
   "language": "python",
   "name": "python3"
  },
  "language_info": {
   "codemirror_mode": {
    "name": "ipython",
    "version": 3
   },
   "file_extension": ".py",
   "mimetype": "text/x-python",
   "name": "python",
   "nbconvert_exporter": "python",
   "pygments_lexer": "ipython3",
   "version": "3.6.5"
  }
 },
 "nbformat": 4,
 "nbformat_minor": 2
}
