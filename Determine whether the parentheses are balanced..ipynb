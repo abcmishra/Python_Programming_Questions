{
 "cells": [
  {
   "cell_type": "raw",
   "metadata": {},
   "source": [
    "You're given a string consisting solely of (, ), and *. * can represent either a (, ), or an empty string. Determine whether the parentheses are balanced.\n",
    "\n",
    "For example, (()* and (*) are balanced. )*( is not balanced."
   ]
  },
  {
   "cell_type": "raw",
   "metadata": {},
   "source": [
    "The brute force method here would be to keep a count of current open parentheses that gets incremented every time we see ( and decremented every time we see ). When we encounter a *, we'll recursively try every path (so with count, count - 1, and count + 1) to see if we can get a valid string."
   ]
  },
  {
   "cell_type": "code",
   "execution_count": 1,
   "metadata": {},
   "outputs": [],
   "source": [
    "def balanced(s, count=0):\n",
    "    if not s and count == 0:\n",
    "        return True\n",
    "\n",
    "    c = count\n",
    "    for i, char in enumerate(s):\n",
    "        if char == '(':\n",
    "            c += 1\n",
    "        elif char == ')':\n",
    "            c -= 1\n",
    "        elif char == '*':\n",
    "            return balanced(s[i + 1:], c) or balanced(s[i + 1:], c + 1) or balanced(s[i + 1:], c - 1)\n",
    "\n",
    "        if c < 0:\n",
    "            return False\n",
    "\n",
    "    return c == 0"
   ]
  },
  {
   "cell_type": "raw",
   "metadata": {},
   "source": [
    "This takes exponential time though since we're recursively calling balanced 3 times on each call.\n",
    "\n",
    "We can use a faster trick, though. Notice from the brute force solution that * basically means a range from c - 1 to c + 1. We can keep just two variables, low and high. We'll maintain the following invariants:\n",
    "\n",
    "low represents the minimum number of unbalanced open parentheses\n",
    "high represents the maximum number of unbalanced open parentheses\n",
    "where low and high will diverge when we encounter an *. We'll keep track of these counts by doing the following:\n",
    "\n",
    "If we encounter (, then we increment both low and high - they both contribute to the counts of unbalanced open parentheses.\n",
    "If we encounter ), then we decrement both low and high - we have one less unbalanced open parenthesis.\n",
    "If we encounter *, then we decrement low but increment high, since it could mean either a ) or (."
   ]
  },
  {
   "cell_type": "code",
   "execution_count": 2,
   "metadata": {},
   "outputs": [],
   "source": [
    "def balanced(s):\n",
    "    low = 0\n",
    "    high = 0\n",
    "    for char in s:\n",
    "        if char == '(':\n",
    "            low += 1\n",
    "            high += 1\n",
    "        elif char == ')':\n",
    "            low = max(low - 1, 0)\n",
    "            high -= 1\n",
    "        elif char == '*':\n",
    "            low = max(low - 1, 0)\n",
    "            high += 1\n",
    "\n",
    "        if high < 0:\n",
    "            return False\n",
    "    return low == 0"
   ]
  },
  {
   "cell_type": "raw",
   "metadata": {},
   "source": [
    "This will take only O(1) space and O(n) time."
   ]
  },
  {
   "cell_type": "code",
   "execution_count": null,
   "metadata": {},
   "outputs": [],
   "source": []
  }
 ],
 "metadata": {
  "kernelspec": {
   "display_name": "Python 3",
   "language": "python",
   "name": "python3"
  },
  "language_info": {
   "codemirror_mode": {
    "name": "ipython",
    "version": 3
   },
   "file_extension": ".py",
   "mimetype": "text/x-python",
   "name": "python",
   "nbconvert_exporter": "python",
   "pygments_lexer": "ipython3",
   "version": "3.6.5"
  }
 },
 "nbformat": 4,
 "nbformat_minor": 2
}
