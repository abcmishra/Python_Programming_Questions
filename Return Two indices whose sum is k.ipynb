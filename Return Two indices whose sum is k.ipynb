{
 "cells": [
  {
   "cell_type": "markdown",
   "metadata": {},
   "source": [
    "# Question"
   ]
  },
  {
   "cell_type": "raw",
   "metadata": {},
   "source": [
    "Given the root of a binary search tree, and a target K, return two nodes in the tree whose sum equals K.\n",
    "\n",
    "For example, given the following tree and K of 20\n",
    "\n",
    "    10\n",
    "   /   \\\n",
    " 5      15\n",
    "       /  \\\n",
    "     11    15\n",
    "Return the nodes 5 and 15."
   ]
  },
  {
   "cell_type": "markdown",
   "metadata": {},
   "source": [
    "# Code"
   ]
  },
  {
   "cell_type": "raw",
   "metadata": {},
   "source": [
    "This question is similar to the two-sum problem with a list. We can actually reduce this problem into that one by turning the tree into a list. To save some space, we'll use generators, which are like list-like but are generated on-the-fly."
   ]
  },
  {
   "cell_type": "code",
   "execution_count": 1,
   "metadata": {},
   "outputs": [],
   "source": [
    "def two_sum(root, K):\n",
    "    seen = {} # Map of val to node\n",
    "\n",
    "    for node in iter_tree(root):\n",
    "        if K - node.val in seen:\n",
    "            return (node, seen[K - node.val])\n",
    "        seen[node.val] = node\n",
    "\n",
    "    return None\n",
    "\n",
    "def iter_tree(root):\n",
    "    if root:\n",
    "        for node in iter_tree(root.left):\n",
    "            yield node\n",
    "\n",
    "        yield root\n",
    "\n",
    "        for node in iter_tree(root.right):\n",
    "            yield node"
   ]
  },
  {
   "cell_type": "raw",
   "metadata": {},
   "source": [
    "Another solution is to simply to iterate over each node and do a binary tree search for K - node.val. This takes O(N log N) time since for each node, we do a search which takes log N. However, it will only take O(log N) space because the call stack gets log N deep."
   ]
  },
  {
   "cell_type": "code",
   "execution_count": 2,
   "metadata": {},
   "outputs": [],
   "source": [
    "def two_sum(root, K):\n",
    "    for node_one in iter_tree(root):\n",
    "        node_two = search(root, K - node_one.val)\n",
    "\n",
    "        if node_two:\n",
    "            return (node_one, node_two)\n",
    "\n",
    "    return None\n",
    "\n",
    "\n",
    "def search(node, val):\n",
    "    if not node:\n",
    "        return None\n",
    "\n",
    "    if node.val == val:\n",
    "        return node\n",
    "    elif node.val < val:\n",
    "        return search(node.right, val)\n",
    "    else:\n",
    "        return search(node.left,val)"
   ]
  }
 ],
 "metadata": {
  "kernelspec": {
   "display_name": "Python 3",
   "language": "python",
   "name": "python3"
  },
  "language_info": {
   "codemirror_mode": {
    "name": "ipython",
    "version": 3
   },
   "file_extension": ".py",
   "mimetype": "text/x-python",
   "name": "python",
   "nbconvert_exporter": "python",
   "pygments_lexer": "ipython3",
   "version": "3.6.5"
  }
 },
 "nbformat": 4,
 "nbformat_minor": 2
}
