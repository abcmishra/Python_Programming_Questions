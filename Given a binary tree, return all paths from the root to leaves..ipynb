{
 "cells": [
  {
   "cell_type": "markdown",
   "metadata": {},
   "source": [
    "# Question"
   ]
  },
  {
   "cell_type": "raw",
   "metadata": {},
   "source": [
    "Given a binary tree, return all paths from the root to leaves.\n",
    "\n",
    "For example, given the tree:\n",
    "\n",
    "   1\n",
    "  / \\\n",
    " 2   3\n",
    "      / \\\n",
    "    4   5\n",
    "Return [[1, 2], [1, 3, 4], [1, 3, 5]].\n"
   ]
  },
  {
   "cell_type": "markdown",
   "metadata": {},
   "source": [
    "# Explanation"
   ]
  },
  {
   "cell_type": "raw",
   "metadata": {},
   "source": [
    "A binary tree is a data structure in which each node has at most two children (left / right). To solve this question, we can iterate over the tree to check nodes without children, also known as leaf nodes.\n",
    "\n",
    "The BSTNode class might be defined like this:"
   ]
  },
  {
   "cell_type": "markdown",
   "metadata": {},
   "source": [
    "# Code"
   ]
  },
  {
   "cell_type": "code",
   "execution_count": 1,
   "metadata": {},
   "outputs": [],
   "source": [
    "class BSTNode:\n",
    "    def __init__(self, value, left=None, right=None):\n",
    "        self.parent = None\n",
    "        self.value = value\n",
    "        self.left = left\n",
    "        self.right = right\n",
    "        if left:\n",
    "           left.parent = self\n",
    "        if right:\n",
    "           right.parent = self\n",
    "\n",
    "    def path(self):\n",
    "        path = []\n",
    "        current = self\n",
    "        while current:\n",
    "            path = [current.value] + path\n",
    "            current = current.parent\n",
    "        return path"
   ]
  },
  {
   "cell_type": "raw",
   "metadata": {},
   "source": [
    "We conveniently store the parent node for the path function, so we can find the ancestors to get their path to the root. We can initialize our binary tree with this code:"
   ]
  },
  {
   "cell_type": "raw",
   "metadata": {},
   "source": [
    "\"\"\"\n",
    "    For the binary tree shown below:\n",
    "\n",
    "       1\n",
    "      / \\\n",
    "     2   3\n",
    "        / \\\n",
    "       4   5\n",
    "\"\"\"\n",
    "root = Node(\n",
    "    value=1,\n",
    "    left=Node(2),\n",
    "    right=Node(3, Node(4), Node(5))\n",
    ")"
   ]
  },
  {
   "cell_type": "raw",
   "metadata": {},
   "source": [
    "Sometimes programmers may be tempted to use a recursive function, like this"
   ]
  },
  {
   "cell_type": "code",
   "execution_count": 3,
   "metadata": {},
   "outputs": [],
   "source": [
    "def find_leaves(node):\n",
    "    if not node.left and not node.right:\n",
    "        return [node.path()]\n",
    "    leaves = []\n",
    "    if node.left:\n",
    "        leaves += find_leaves(node.left)\n",
    "    if node.right:\n",
    "        leaves += find_leaves(node.right)\n",
    "    return leaves"
   ]
  },
  {
   "cell_type": "markdown",
   "metadata": {},
   "source": [
    "We should avoid this practice on large or unknown trees because of the possibility of a call stack overflow.\n",
    "\n",
    "A safer way is to use a FIFO queue, linked list or a simple list. Like this:"
   ]
  },
  {
   "cell_type": "code",
   "execution_count": 4,
   "metadata": {},
   "outputs": [],
   "source": [
    "def find_leaves(node):\n",
    "    leaves = []\n",
    "    queue = list()\n",
    "    queue.append(node)\n",
    "    while len(queue):\n",
    "        node = queue.pop()\n",
    "        if not node.left and not node.right:\n",
    "            leaves += [node.path()]\n",
    "            continue\n",
    "        if node.right:\n",
    "            queue.append(node.right)\n",
    "        if node.left:\n",
    "            queue.append(node.left)\n",
    "    return leaves"
   ]
  }
 ],
 "metadata": {
  "kernelspec": {
   "display_name": "Python 3",
   "language": "python",
   "name": "python3"
  },
  "language_info": {
   "codemirror_mode": {
    "name": "ipython",
    "version": 3
   },
   "file_extension": ".py",
   "mimetype": "text/x-python",
   "name": "python",
   "nbconvert_exporter": "python",
   "pygments_lexer": "ipython3",
   "version": "3.6.5"
  }
 },
 "nbformat": 4,
 "nbformat_minor": 2
}
