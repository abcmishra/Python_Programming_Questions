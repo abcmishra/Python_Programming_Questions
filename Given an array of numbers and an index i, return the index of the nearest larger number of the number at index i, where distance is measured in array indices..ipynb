{
 "cells": [
  {
   "cell_type": "raw",
   "metadata": {},
   "source": [
    "\n",
    "Given an array of numbers and an index i, return the index of the nearest larger number of the number at index i, where distance is measured in array indices.\n",
    "\n",
    "For example, given [4, 1, 3, 5, 6] and index 0, you should return 3.\n",
    "\n",
    "If two distances to larger numbers are equal, then return any one of them. If the array at i doesn't have a nearest larger integer, then return null.\n",
    "\n",
    "Follow-up: If you can preprocess the array, can you do this in constant time?"
   ]
  },
  {
   "cell_type": "raw",
   "metadata": {},
   "source": [
    "We can do this the brute force method by simply iterating over the range of the array, and trying each offset in both directions until we find a number larger than arr[i]:"
   ]
  },
  {
   "cell_type": "code",
   "execution_count": 1,
   "metadata": {},
   "outputs": [],
   "source": [
    "def nearest(arr, i):\n",
    "    for j in range(1, len(arr)):\n",
    "        low = i - j\n",
    "        high = i + j\n",
    "        if 0 <= low and arr[low] > arr[i]:\n",
    "            return low\n",
    "        if high < len(arr) and arr[high] > arr[i]:\n",
    "            return high"
   ]
  },
  {
   "cell_type": "raw",
   "metadata": {},
   "source": [
    "This takes O(1) space but O(n) time, since we may need to iterate over the whole array.\n",
    "\n",
    "To speed up the querying, we can preprocess the array to build a lookup array. We'll store the closest index for each corresponding index in the array. To build it fast, we can simply look at pairwise elements along the array to see which one's bigger, and set the index of the lookup array appropriately.\n",
    "\n",
    "However, there may be cases where we end up with nulls, such as with our example input:\n",
    "\n",
    "[4, 1, 3, 5, 6] would become [null, 2, 3, 4, null] -- the first null shouldn't be there!\n",
    "\n",
    "We'll fallback to our original method to fill in the nulls:"
   ]
  },
  {
   "cell_type": "code",
   "execution_count": 2,
   "metadata": {},
   "outputs": [],
   "source": [
    "def _nearest(arr, i):\n",
    "    for j in range(1, len(arr)):\n",
    "        low = i - j\n",
    "        high = i + j\n",
    "        if 0 <= low and arr[low] > arr[i]:\n",
    "            return low\n",
    "        if high < len(arr) and arr[high] > arr[i]:\n",
    "            return high\n",
    "\n",
    "def preprocess(arr):\n",
    "    cache = [None for _ in range(len(arr))]\n",
    "\n",
    "    for j in range(len(arr) - 1):\n",
    "        if arr[j] > arr[j + 1]:\n",
    "            cache[j + 1] = j\n",
    "        elif arr[j + 1] > arr[j]:\n",
    "            cache[j] = j + 1\n",
    "\n",
    "    for i, val in enumerate(cache):\n",
    "        if val is None:\n",
    "            cache[i] = _nearest(arr, i)\n",
    "\n",
    "    return cache"
   ]
  },
  {
   "cell_type": "raw",
   "metadata": {},
   "source": [
    "Now we can call preprocess(arr) on our array and query the index at i.\n",
    "\n",
    "If the elements in the original array are distinct, then this will take linear time. Otherwise, if there are duplicates, then it could take O(n^2) time in the worst case."
   ]
  }
 ],
 "metadata": {
  "kernelspec": {
   "display_name": "Python 3",
   "language": "python",
   "name": "python3"
  },
  "language_info": {
   "codemirror_mode": {
    "name": "ipython",
    "version": 3
   },
   "file_extension": ".py",
   "mimetype": "text/x-python",
   "name": "python",
   "nbconvert_exporter": "python",
   "pygments_lexer": "ipython3",
   "version": "3.6.5"
  }
 },
 "nbformat": 4,
 "nbformat_minor": 2
}
