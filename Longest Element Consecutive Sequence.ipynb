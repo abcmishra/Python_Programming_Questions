{
 "cells": [
  {
   "cell_type": "markdown",
   "metadata": {},
   "source": [
    "# Question"
   ]
  },
  {
   "cell_type": "raw",
   "metadata": {},
   "source": [
    "# Given an unsorted array of integers, find the length of the longest consecutive elements sequence.\n",
    "\n",
    "For example, given [100, 4, 200, 1, 3, 2], the longest consecutive element sequence is [1, 2, 3, 4]. Return its length: 4.\n",
    "\n",
    "Your algorithm should run in O(n) complexity."
   ]
  },
  {
   "cell_type": "markdown",
   "metadata": {},
   "source": [
    "# Explanation"
   ]
  },
  {
   "cell_type": "raw",
   "metadata": {},
   "source": [
    "\n",
    "We can see that if the array of integers was sorted, we'd be able to find the longest consecutive sequence fairly easily. First, we sort the array in ascending order. Then, we traverse the array, keeping the count of the current sequence. If the next element is one higher than the current element, then we increment the count. Otherwise, we start the count over at 1. We simply return the maximum count we've seen overall. The overall run-time of this solution would be O(nlogn), since we have to sort the input array. Depending on the sorting implementation and whether or not we are able to modify the array, the space complexity would be O(n) or O(1).\n",
    "\n",
    "We can improve our solution by using extra space to cache the bounds of sequences we've seen so far. If we get a new number, then we start with a sequence length of 1. If we get a number we've seen already, we can ignore it since none of the bounds should change"
   ]
  },
  {
   "cell_type": "markdown",
   "metadata": {},
   "source": [
    "# CODE"
   ]
  },
  {
   "cell_type": "code",
   "execution_count": 1,
   "metadata": {},
   "outputs": [],
   "source": [
    "def longest_consecutive(self, nums):\n",
    "    max_len = 0\n",
    "    bounds = dict()\n",
    "    for num in nums:\n",
    "        if num in bounds:\n",
    "            continue\n",
    "        left_bound, right_bound = num, num\n",
    "        if num - 1 in bounds:\n",
    "            left_bound = bounds[num - 1][0]\n",
    "        if num + 1 in bounds:\n",
    "            right_bound = bounds[num + 1][1]\n",
    "        bounds[num] = left_bound, right_bound\n",
    "        bounds[left_bound] = left_bound, right_bound\n",
    "        bounds[right_bound] = left_bound, right_bound\n",
    "        max_len = max(right_bound - left_bound + 1, max_len)\n",
    "\n",
    "    return max_len"
   ]
  },
  {
   "cell_type": "raw",
   "metadata": {},
   "source": [
    "This solution has a time complexity of O(N), and a space complexity of O(N)."
   ]
  }
 ],
 "metadata": {
  "kernelspec": {
   "display_name": "Python 3",
   "language": "python",
   "name": "python3"
  },
  "language_info": {
   "codemirror_mode": {
    "name": "ipython",
    "version": 3
   },
   "file_extension": ".py",
   "mimetype": "text/x-python",
   "name": "python",
   "nbconvert_exporter": "python",
   "pygments_lexer": "ipython3",
   "version": "3.6.5"
  }
 },
 "nbformat": 4,
 "nbformat_minor": 2
}
