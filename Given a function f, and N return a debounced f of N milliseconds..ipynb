{
 "cells": [
  {
   "cell_type": "markdown",
   "metadata": {},
   "source": [
    "# Question"
   ]
  },
  {
   "cell_type": "raw",
   "metadata": {},
   "source": [
    "Given a function f, and N return a debounced f of N milliseconds.\n",
    "\n",
    "That is, as long as the debounced f continues to be invoked, f itself will not be called for N milliseconds."
   ]
  },
  {
   "cell_type": "markdown",
   "metadata": {},
   "source": [
    "# Solution"
   ]
  },
  {
   "cell_type": "raw",
   "metadata": {},
   "source": [
    "We can understand the debounced function as doing these two steps:\n",
    "\n",
    "Cancelling a previously scheduled f to be cancelled (if it exists)\n",
    "Re-scheduling f to be schedulled in milliseconds\n",
    "To do this, we need to be able to remember how to cancel the previous f. So we take the result of setTimeout and store it under closure in defer. This gives us an id which we can use to cancel "
   ]
  },
  {
   "cell_type": "markdown",
   "metadata": {},
   "source": [
    "# Code"
   ]
  },
  {
   "cell_type": "raw",
   "metadata": {},
   "source": [
    "nst debounced = function(f, milliseconds) {\n",
    "  let defer;\n",
    "\n",
    "  return function() {\n",
    "    if (defer) {\n",
    "      clearTimeout(defer);\n",
    "    }\n",
    "\n",
    "    defer = setTimeout(f, milliseconds)\n",
    "  }\n",
    "}"
   ]
  }
 ],
 "metadata": {
  "kernelspec": {
   "display_name": "Python 3",
   "language": "python",
   "name": "python3"
  },
  "language_info": {
   "codemirror_mode": {
    "name": "ipython",
    "version": 3
   },
   "file_extension": ".py",
   "mimetype": "text/x-python",
   "name": "python",
   "nbconvert_exporter": "python",
   "pygments_lexer": "ipython3",
   "version": "3.6.5"
  }
 },
 "nbformat": 4,
 "nbformat_minor": 2
}
