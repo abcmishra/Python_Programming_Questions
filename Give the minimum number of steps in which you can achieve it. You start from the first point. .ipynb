{
 "cells": [
  {
   "cell_type": "markdown",
   "metadata": {},
   "source": [
    "# Question"
   ]
  },
  {
   "cell_type": "raw",
   "metadata": {},
   "source": [
    "You are in an infinite 2D grid where you can move in any of the 8 directions:\n",
    "\n",
    " (x,y) to\n",
    "    (x+1, y),\n",
    "    (x - 1, y),\n",
    "    (x, y+1),\n",
    "    (x, y-1),\n",
    "    (x-1, y-1),\n",
    "    (x+1,y+1),\n",
    "    (x-1,y+1),\n",
    "    (x+1,y-1)\n",
    "You are given a sequence of points and the order in which you need to cover the points.Give the minimum number of steps in which you can achieve it. You start from the first point. \n",
    "\n",
    "Example:\n",
    "\n",
    "Input: [(0, 0), (1, 1), (1, 2)]\n",
    "Output: 2\n",
    "It takes 1 step to move from (0, 0) to (1, 1). It takes one more step to move from (1, 1) to (1, 2).\n",
    "\n",
    "\n",
    "\n"
   ]
  },
  {
   "cell_type": "markdown",
   "metadata": {},
   "source": [
    "# Solution"
   ]
  },
  {
   "cell_type": "raw",
   "metadata": {},
   "source": [
    "We can see that the minimum number of steps would be to walk as many diagonal steps as possible, and then walk directly to the second point. If we were to walk directly vertically and then horizontally, it would be a greater number of steps. We can break down the diagonal and vertical/horizontal components by taking the adding the minimum of the vertical or horizontal differences with the remaining distance"
   ]
  },
  {
   "cell_type": "markdown",
   "metadata": {},
   "source": [
    "# Code"
   ]
  },
  {
   "cell_type": "raw",
   "metadata": {},
   "source": [
    "# X and Y co-ordinates of the points in order.\n",
    "#Each point is represented by (X.get(i), Y.get(i))\n",
    "public int coverPoints(ArrayList<Integer> X, ArrayList<Integer> Y) {\n",
    "    int totalDistance = 0;\n",
    "    for (int i = 1; i < X.size(); i++) {\n",
    "        totalDistance += getDistance(X.get(i - 1), Y.get(i - 1), X.get(i), Y.get(i));\n",
    "    }\n",
    "    return totalDistance;\n",
    "}\n",
    "\n",
    "private int getDistance(int x1, int y1, int x2, int y2) {\n",
    "    /* Get diagonal distance component */\n",
    "    int dist1 = (int)Math.min(Math.abs(x2 - x1), Math.abs(y2 - y1));\n",
    "    /* Get horizontal/vertical distance component */\n",
    "    int dist2 = (int)Math.max(Math.abs(x2 - x1), Math.abs(y2 - y1)) - dist1;\n",
    "    return dist1 + dist2;\n",
    "}"
   ]
  }
 ],
 "metadata": {
  "kernelspec": {
   "display_name": "Python 3",
   "language": "python",
   "name": "python3"
  },
  "language_info": {
   "codemirror_mode": {
    "name": "ipython",
    "version": 3
   },
   "file_extension": ".py",
   "mimetype": "text/x-python",
   "name": "python",
   "nbconvert_exporter": "python",
   "pygments_lexer": "ipython3",
   "version": "3.6.5"
  }
 },
 "nbformat": 4,
 "nbformat_minor": 2
}
