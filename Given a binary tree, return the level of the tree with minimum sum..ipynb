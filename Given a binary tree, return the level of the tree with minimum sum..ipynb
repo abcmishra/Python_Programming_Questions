{
 "cells": [
  {
   "cell_type": "markdown",
   "metadata": {},
   "source": [
    "# question"
   ]
  },
  {
   "cell_type": "raw",
   "metadata": {},
   "source": [
    "Given a binary tree, return the level of the tree with minimum sum."
   ]
  },
  {
   "cell_type": "markdown",
   "metadata": {},
   "source": [
    "# Explanation"
   ]
  },
  {
   "cell_type": "raw",
   "metadata": {},
   "source": [
    "A binary tree is a data structure in which each node has at most two children (left and right), and a level is how many parents a node has until it reaches the root.\n",
    "\n",
    "To better explain this question, let's see this example:\n",
    "\n",
    "       1      (Level 0 = 1)\n",
    "      / \\\n",
    "     2   3    (Level 1 = 2 + 3)\n",
    "        / \\\n",
    "       4   5  (Level 2 = 4 + 5)\n",
    "One possible way to solve this problem is iterate level by level on the tree's nodes, so we can get theirs respective sum. Like this code:"
   ]
  },
  {
   "cell_type": "markdown",
   "metadata": {},
   "source": [
    "# Code"
   ]
  },
  {
   "cell_type": "code",
   "execution_count": 2,
   "metadata": {},
   "outputs": [],
   "source": [
    "from Queue import Queue\n",
    "from collections import defaultdict\n",
    "\n",
    "class Node:\n",
    "    def __init__(self, value, left=None, right=None):\n",
    "        self.value = value\n",
    "        self.left = left\n",
    "        self.right = right\n",
    "\n",
    "def minimum_level_sum(root):\n",
    "    queue = Queue()\n",
    "    queue.put((root, 0))\n",
    "    level_to_sum = defaultdict(int) # Maps level to its sum\n",
    "\n",
    "\n",
    "    while not queue.empty():\n",
    "        node, level = queue.get()\n",
    "        level_to_sum[level] += node.val\n",
    "\n",
    "        if node.right:\n",
    "            queue.put((node.right, level + 1))\n",
    "\n",
    "        if node.left:\n",
    "            queue.put((node.left, level + 1))\n",
    "\n",
    "    return min(level_to_sum, key=level_to_sum.get)"
   ]
  },
  {
   "cell_type": "raw",
   "metadata": {},
   "source": [
    "The complexity of this function is O(N), and works both with positive or negative values. It works by doing a breadth first search and keeping track of the sum in each level.\n",
    "\n",
    "You can try yourself with these examples"
   ]
  },
  {
   "cell_type": "raw",
   "metadata": {},
   "source": [
    "\"\"\n",
    "         1\n",
    "       /  \\\n",
    "     -2   -3            (level 1 is the minimum)\n",
    "         /  \\\n",
    "        4   -5\n",
    "\"\"\"\n",
    "root = Node(\n",
    "    value=1,\n",
    "    left=Node(-2),\n",
    "    right=Node(-3, Node(4), Node(-5))\n",
    ")\n",
    "print(minimum_level_sum(root))"
   ]
  },
  {
   "cell_type": "raw",
   "metadata": {},
   "source": [
    "\"\"\"\n",
    "          1\n",
    "      /       \\\n",
    "    2          3\n",
    "  /  \\          \\\n",
    " 4    5          6\n",
    "       \\       /   \\\n",
    "       -1   -7     -8   (level 3 is the minimum)\n",
    "\n",
    "\"\"\"\n",
    "root = Node(\n",
    "    value=1,\n",
    "    left=Node(2, Node(4), Node(5, Node(-1))),\n",
    "    right=Node(\n",
    "        value=3,\n",
    "        right=Node(6, Node(-7), Node(-8))\n",
    "    )\n",
    ")\n",
    "print(minimum_level_sum(root))"
   ]
  }
 ],
 "metadata": {
  "kernelspec": {
   "display_name": "Python 3",
   "language": "python",
   "name": "python3"
  },
  "language_info": {
   "codemirror_mode": {
    "name": "ipython",
    "version": 3
   },
   "file_extension": ".py",
   "mimetype": "text/x-python",
   "name": "python",
   "nbconvert_exporter": "python",
   "pygments_lexer": "ipython3",
   "version": "3.6.5"
  }
 },
 "nbformat": 4,
 "nbformat_minor": 2
}
