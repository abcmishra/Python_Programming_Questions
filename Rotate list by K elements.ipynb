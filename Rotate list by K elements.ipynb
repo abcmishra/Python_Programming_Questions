{
 "cells": [
  {
   "cell_type": "markdown",
   "metadata": {},
   "source": [
    "# Question"
   ]
  },
  {
   "cell_type": "raw",
   "metadata": {},
   "source": [
    "Write a function that rotates a list by k elements. For example, [1, 2, 3, 4, 5, 6] rotated by two becomes [3, 4, 5, 6, 1, 2]. Try solving this without creating a copy of the list. How many swap or move operations do you need?"
   ]
  },
  {
   "cell_type": "markdown",
   "metadata": {},
   "source": [
    "# Code"
   ]
  },
  {
   "cell_type": "raw",
   "metadata": {},
   "source": [
    "We can naively rotate a list without creating a copy by simply moving each element down by one, k times. Don't forget to wrap around:"
   ]
  },
  {
   "cell_type": "code",
   "execution_count": 1,
   "metadata": {},
   "outputs": [],
   "source": [
    "def rotate(lst, k):\n",
    "    for _ in range(k):\n",
    "        # Move each element down by one.\n",
    "        first_element = lst[0]\n",
    "        for i in range(len(lst) - 1):\n",
    "            lst[i] = lst[i + 1]\n",
    "        lst[len(lst) - 1] = first_element\n",
    "    return lst"
   ]
  },
  {
   "cell_type": "raw",
   "metadata": {},
   "source": [
    "Although this takes constant space, this will take O(nk) time. Can we do this any faster?\n",
    "\n",
    "We can view this problem as transforming the list into lst[k:] + lst[:k]. By reversing these subarrays and then reversing the whole array we can effectively rotate the array in linear time and without copying.\n",
    "\n",
    "Take our example, [1, 2, 3, 4, 5, 6] and k = 2.\n",
    "\n",
    "First reverse from 0 to k: [2, 1, 3, 4, 5, 6]\n",
    "Then reverse from k to n: [2, 1, 6, 5, 4, 3]\n",
    "Then reverse from 0 to n: [3, 4, 5, 6, 1, 2]"
   ]
  },
  {
   "cell_type": "code",
   "execution_count": 2,
   "metadata": {},
   "outputs": [],
   "source": [
    "def rotate(lst, k):\n",
    "    reverse(lst, 0, k - 1)\n",
    "    reverse(lst, k, len(lst) - 1)\n",
    "    reverse(lst, 0, len(lst) - 1)\n",
    "\n",
    "def reverse(lst, i, j):\n",
    "    while i < j:\n",
    "        lst[i], lst[j] = lst[j], lst[i]\n",
    "        i += 1\n",
    "        j -= 1"
   ]
  },
  {
   "cell_type": "raw",
   "metadata": {},
   "source": [
    "Since reversing a list takes O(n) and we do a constant number of reversals (3), this algorithm takes O(n) time."
   ]
  },
  {
   "cell_type": "code",
   "execution_count": null,
   "metadata": {},
   "outputs": [],
   "source": []
  }
 ],
 "metadata": {
  "kernelspec": {
   "display_name": "Python 3",
   "language": "python",
   "name": "python3"
  },
  "language_info": {
   "codemirror_mode": {
    "name": "ipython",
    "version": 3
   },
   "file_extension": ".py",
   "mimetype": "text/x-python",
   "name": "python",
   "nbconvert_exporter": "python",
   "pygments_lexer": "ipython3",
   "version": "3.6.5"
  }
 },
 "nbformat": 4,
 "nbformat_minor": 2
}
