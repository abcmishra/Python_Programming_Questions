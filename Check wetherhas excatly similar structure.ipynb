{
 "cells": [
  {
   "cell_type": "markdown",
   "metadata": {},
   "source": [
    "# Question"
   ]
  },
  {
   "cell_type": "raw",
   "metadata": {},
   "source": [
    "\n",
    "Given two non-empty binary trees s and t, check whether tree t has exactly the same structure and node values with a subtree of s. A subtree of s is a tree consists of a node in s and all of this node's descendants. The tree s could also be considered as a subtree of itself."
   ]
  },
  {
   "cell_type": "markdown",
   "metadata": {},
   "source": [
    "# Explanation"
   ]
  },
  {
   "cell_type": "raw",
   "metadata": {},
   "source": [
    "We can solve this problem by solving the subproblem of whether the tree t has the same structure and node values of any subtree of s. We can implement a helper function is_equal(s, t) that checks whether the two trees have the same structure and values. Then, for each node u in s, we return True if is_equal(u, t) for any u, otherwise we return False. The implementation of is_equal is straightforward, and takes O(min(M, N)) time in the worst case, where M and N are the number of nodes in trees u and t, respectively.\n",
    "\n",
    "Once we have the is_equal(u, t) function, we can write a recursion for the overall answer. We should return True if the current node is equal to t, or if either of the subtrees is equal to t. The base case should handle an empty subtree."
   ]
  },
  {
   "cell_type": "markdown",
   "metadata": {},
   "source": [
    "# Code"
   ]
  },
  {
   "cell_type": "code",
   "execution_count": 1,
   "metadata": {},
   "outputs": [],
   "source": [
    "def is_subtree(s, t):\n",
    "    def is_equal(s, t):\n",
    "        if s is None and t is None:\n",
    "            return True\n",
    "        if s is None or t is None:\n",
    "            return False\n",
    "        if s.val != t.val:\n",
    "            return False\n",
    "        return is_equal(s.left, t.left) and is_equal(s.right, t.right)\n",
    "\n",
    "    if s is None:\n",
    "        return False\n",
    "    if is_equal(s, t):\n",
    "        return True\n",
    "    return is_subtree(s.left, t) or is_subtree(s.right, t)"
   ]
  },
  {
   "cell_type": "raw",
   "metadata": {},
   "source": [
    "Overall, the time complexity of this algorithm is O(M * N) in the worst case, where M is the number of nodes in tree s and N is the number of nodes in tree t, since we would perform up to N calls to is_subtree. The space complexity of this solution is O(M), since the depth of the recursion can go up to the number of nodes of tree s in the worst case.\n",
    "\n",
    "Another way we can solve this problem is by encoding both trees using a pre-order traversal (with null markers). We return whether the string representation of subtree s is found within the string representation of tree t. Since we are using a pre-order traversal, subtrees of t will each be found in one contiguous substring, enabling us to search for the substring from the traversal of tree s. We must mark null pointers during our traversal, as pre-order traversals without these can be ambiguous in how the tree should be reconstructed. We also need to wrap the start and end of the traversal string, to avoid edge cases such as 12 and 1."
   ]
  },
  {
   "cell_type": "code",
   "execution_count": 2,
   "metadata": {},
   "outputs": [],
   "source": [
    "def is_subtree(s, t):\n",
    "        def preorder(root):\n",
    "            traversal = []\n",
    "            stack = [root]\n",
    "            while stack:\n",
    "                n = stack.pop()\n",
    "                if n is None:\n",
    "                    traversal.append('.')  # null marker\n",
    "                    continue\n",
    "                else:\n",
    "                    traversal.append(str(n.val))\n",
    "                stack.append(n.right)\n",
    "                stack.append(n.left)\n",
    "            return ',' + ','.join(traversal) + ','  # Wrap result\n",
    "\n",
    "        s_str = preorder(s)\n",
    "        t_str = preorder(t)\n",
    "        return t_str in s_str"
   ]
  },
  {
   "cell_type": "raw",
   "metadata": {},
   "source": [
    "The preorder(root) function takes O(N) time, and up to O(N) space in the worst case. The overall runtime depends on how the method checking for whether the substring is contained is implemented. The Python 3 implementation uses a variant of the Boyer–Moore string search algorithm , which runs in O(M + N) time in the average case, and O(M * N) in the worst case.\n",
    "\n",
    "Finally, we could also check for subtree quality by using a hashing algorithm. One frequently-used data structure for comparing trees using hashing is a Merkle tree."
   ]
  }
 ],
 "metadata": {
  "kernelspec": {
   "display_name": "Python 3",
   "language": "python",
   "name": "python3"
  },
  "language_info": {
   "codemirror_mode": {
    "name": "ipython",
    "version": 3
   },
   "file_extension": ".py",
   "mimetype": "text/x-python",
   "name": "python",
   "nbconvert_exporter": "python",
   "pygments_lexer": "ipython3",
   "version": "3.6.5"
  }
 },
 "nbformat": 4,
 "nbformat_minor": 2
}
