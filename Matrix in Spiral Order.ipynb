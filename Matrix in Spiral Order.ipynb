{
 "cells": [
  {
   "cell_type": "raw",
   "metadata": {},
   "source": [
    "Given a positive integer n, generate a square matrix filled with elements from 1 to n^2 in spiral order.\n",
    "\n",
    "Example:\n",
    "\n",
    "Input: 3\n",
    "Output:\n",
    "[\n",
    " [ 1, 2, 3 ],\n",
    " [ 8, 9, 4 ],\n",
    " [ 7, 6, 5 ]\n",
    "]"
   ]
  },
  {
   "cell_type": "code",
   "execution_count": 1,
   "metadata": {},
   "outputs": [
    {
     "name": "stdout",
     "output_type": "stream",
     "text": [
      "Enter the number of rows3\n",
      "Enter the number of columns3\n",
      "Enter the entries in a single line(separated by space):\n",
      "1 2 3 4 5 6 7 8 9\n",
      "[[1 2 3]\n",
      " [4 5 6]\n",
      " [7 8 9]]\n"
     ]
    }
   ],
   "source": [
    "import numpy as np\n",
    "#x=int(input(\"Enter the element to be searched\"))\n",
    "R=int(input(\"Enter the number of rows\"))\n",
    "C=int(input(\"Enter the number of columns\"))\n",
    "print(\"Enter the entries in a single line(separated by space):\")\n",
    "#User inpu of entries in a\n",
    "#single line separated by space\n",
    "entries=list(map(int,input().split()))\n",
    "#For printing the matrix\n",
    "matrix=np.array(entries).reshape(R,C)\n",
    "print(matrix)"
   ]
  },
  {
   "cell_type": "code",
   "execution_count": 3,
   "metadata": {},
   "outputs": [],
   "source": [
    "def spiral_matrix( n):\n",
    "        \n",
    "        rowBegin=0\n",
    "        rowEnd=n-1\n",
    "        columnBegin=0\n",
    "        columnEnd=n-1\n",
    "        counter=1\n",
    "        spiral=[[0 for _ in range(n)] for _ in range(n)]\n",
    "        while rowBegin<=rowEnd and columnBegin<=columnEnd:\n",
    "            for i in range(columnBegin,columnEnd+1):\n",
    "                spiral[rowBegin][i]=counter\n",
    "                counter+=1\n",
    "            rowBegin+=1\n",
    "            for j in range(rowBegin,rowEnd+1):\n",
    "                spiral[j][columnEnd]=counter\n",
    "                counter+=1\n",
    "            columnEnd-=1    \n",
    "            if rowBegin<=rowEnd:\n",
    "                for i in range(columnEnd,columnBegin-1,-1):\n",
    "                    spiral[rowEnd][i]=counter\n",
    "                    counter+=1\n",
    "                    \n",
    "            rowEnd-=1\n",
    "            if columnBegin<=columnEnd:\n",
    "                for j in range(rowEnd,rowBegin-1,-1):\n",
    "                    spiral[j][columnBegin]=counter\n",
    "                    counter+=1\n",
    "            columnBegin+=1        \n",
    "        return spiral        \n",
    "            "
   ]
  },
  {
   "cell_type": "code",
   "execution_count": 4,
   "metadata": {},
   "outputs": [
    {
     "name": "stdout",
     "output_type": "stream",
     "text": [
      "3\n"
     ]
    }
   ],
   "source": [
    "n=int(input())"
   ]
  },
  {
   "cell_type": "code",
   "execution_count": 5,
   "metadata": {},
   "outputs": [
    {
     "name": "stdout",
     "output_type": "stream",
     "text": [
      "[[1, 2, 3], [8, 9, 4], [7, 6, 5]]\n"
     ]
    }
   ],
   "source": [
    "matrix=spiral_matrix(n)\n",
    "print(matrix)"
   ]
  },
  {
   "cell_type": "code",
   "execution_count": null,
   "metadata": {},
   "outputs": [],
   "source": []
  }
 ],
 "metadata": {
  "kernelspec": {
   "display_name": "Python 3",
   "language": "python",
   "name": "python3"
  },
  "language_info": {
   "codemirror_mode": {
    "name": "ipython",
    "version": 3
   },
   "file_extension": ".py",
   "mimetype": "text/x-python",
   "name": "python",
   "nbconvert_exporter": "python",
   "pygments_lexer": "ipython3",
   "version": "3.6.5"
  }
 },
 "nbformat": 4,
 "nbformat_minor": 2
}
