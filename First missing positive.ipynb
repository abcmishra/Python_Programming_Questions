{
 "cells": [
  {
   "cell_type": "raw",
   "metadata": {},
   "source": [
    "Logic:-Try to put the lement at its correct index and if not put them in correct place."
   ]
  },
  {
   "cell_type": "code",
   "execution_count": 6,
   "metadata": {},
   "outputs": [],
   "source": [
    "def firstMissingPositive(nums):\n",
    "    i=0\n",
    "    while i<len(nums):\n",
    "        while nums[i]>0 and nums[i]<=len(nums) and nums[nums[i]-1]!=nums[i]:\n",
    "            temp=nums[nums[i]-1]\n",
    "            nums[nums[i]-1]=nums[i]\n",
    "            nums[i]=temp\n",
    "        i+=1\n",
    "    for i,num in enumerate(nums):\n",
    "        if nums[i]!=i+1:\n",
    "            return i+1\n",
    "    return len(nums)+1    \n",
    "            "
   ]
  },
  {
   "cell_type": "code",
   "execution_count": 7,
   "metadata": {},
   "outputs": [
    {
     "name": "stdout",
     "output_type": "stream",
     "text": [
      "3\n",
      "1 2 0\n"
     ]
    }
   ],
   "source": [
    "length=int(input())\n",
    "arr = list(map(int,input().strip().split()))[:length]"
   ]
  },
  {
   "cell_type": "code",
   "execution_count": 8,
   "metadata": {},
   "outputs": [
    {
     "name": "stdout",
     "output_type": "stream",
     "text": [
      "3\n"
     ]
    }
   ],
   "source": [
    "missing_number=firstMissingPositive(arr)\n",
    "print(missing_number)"
   ]
  },
  {
   "cell_type": "code",
   "execution_count": null,
   "metadata": {},
   "outputs": [],
   "source": []
  }
 ],
 "metadata": {
  "kernelspec": {
   "display_name": "Python 3",
   "language": "python",
   "name": "python3"
  },
  "language_info": {
   "codemirror_mode": {
    "name": "ipython",
    "version": 3
   },
   "file_extension": ".py",
   "mimetype": "text/x-python",
   "name": "python",
   "nbconvert_exporter": "python",
   "pygments_lexer": "ipython3",
   "version": "3.6.5"
  }
 },
 "nbformat": 4,
 "nbformat_minor": 2
}
