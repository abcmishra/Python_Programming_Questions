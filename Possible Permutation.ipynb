{
 "cells": [
  {
   "cell_type": "markdown",
   "metadata": {},
   "source": [
    "# Question"
   ]
  },
  {
   "cell_type": "raw",
   "metadata": {},
   "source": [
    "Given a number in the form of a list of digits, return all possible permutations.\n",
    "\n",
    "For example, given [1,2,3], return [[1,2,3],[1,3,2],[2,1,3],[2,3,1],[3,1,2],[3,2,1]]."
   ]
  },
  {
   "cell_type": "markdown",
   "metadata": {},
   "source": [
    "# Explanation"
   ]
  },
  {
   "cell_type": "raw",
   "metadata": {},
   "source": [
    "There are a few ways to do this, and most solutions will have the same run-time. We will need to generate all N! permutations, so our algorithm will have O(N!) run time.\n",
    "\n",
    "The most straightforward method is to use recursion. We can think of the problem in terms of subproblems, where we can generate permutations of a sublist. A permutation of a single digit (e.g. [1]) would return simply the single digit. To get permutations of size n, we get all permutations of size n-1 and add the next character within each position (index 0 to n). For example, one permutation of the sublist [2,3] is [2,3]. We add 1 to three positions to obtain [1,2,3], [2,1,3], and [2,3,1]"
   ]
  },
  {
   "cell_type": "code",
   "execution_count": 1,
   "metadata": {},
   "outputs": [],
   "source": [
    "def permute(nums):\n",
    "    if (len(nums) == 1):\n",
    "            return [nums]\n",
    "\n",
    "    output = []\n",
    "    for l in permute(nums[1:]):\n",
    "        for idx in range(len(nums)):\n",
    "            output.append(l[:idx] + [nums[0]] + l[idx:])\n",
    "    return output"
   ]
  },
  {
   "cell_type": "raw",
   "metadata": {},
   "source": [
    "An alternative way we can formulate the recursion is by generating all permutations of length n-1, but with all digits allowed. The permutations of size 1 would return the input array (e.g. [[1],[2],[3]]). Then, we append the nth digit to the front of the permutations."
   ]
  },
  {
   "cell_type": "code",
   "execution_count": 2,
   "metadata": {},
   "outputs": [],
   "source": [
    "def permute(nums):\n",
    "    def helper(nums, index, output):\n",
    "        if index == len(nums) - 1:\n",
    "            output.append(nums.copy())\n",
    "        for i in range(index, len(nums)):\n",
    "            nums[index], nums[i] = nums[i], nums[index]\n",
    "            helper(nums, index + 1, output)\n",
    "            nums[index], nums[i] = nums[i], nums[index]\n",
    "\n",
    "    output = []\n",
    "    helper(nums, 0, output)\n",
    "    return output"
   ]
  },
  {
   "cell_type": "raw",
   "metadata": {},
   "source": [
    "Both solutions run in O(N!) time and space, where N is the size of the input list"
   ]
  },
  {
   "cell_type": "code",
   "execution_count": null,
   "metadata": {},
   "outputs": [],
   "source": []
  }
 ],
 "metadata": {
  "kernelspec": {
   "display_name": "Python 3",
   "language": "python",
   "name": "python3"
  },
  "language_info": {
   "codemirror_mode": {
    "name": "ipython",
    "version": 3
   },
   "file_extension": ".py",
   "mimetype": "text/x-python",
   "name": "python",
   "nbconvert_exporter": "python",
   "pygments_lexer": "ipython3",
   "version": "3.6.5"
  }
 },
 "nbformat": 4,
 "nbformat_minor": 2
}
