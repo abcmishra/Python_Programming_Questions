{
 "cells": [
  {
   "cell_type": "raw",
   "metadata": {},
   "source": [
    "Given an N by M matrix consisting only of 1's and 0's, find the largest rectangle containing only 1's and return its area.\n",
    "\n",
    "For example, given the following matrix:\n",
    "\n",
    "[[1, 0, 0, 0],\n",
    " [1, 0, 1, 1],\n",
    " [1, 0, 1, 1],\n",
    " [0, 1, 0, 0]]\n",
    "Return 4."
   ]
  },
  {
   "cell_type": "raw",
   "metadata": {},
   "source": [
    "The brute force method for solving this problem would involve enumerating every possible subrectangle in the matrix, checking if they are all 1s and summing them up if they are, keeping track of the largest subrectangle of 1s so far. This would take constant space but O(M3N3) time, since we have to enumerate every subrectangle, which is O(N2M2), and for each subrectangle we may have to sum up all the area inside it, which is another O(MN)."
   ]
  },
  {
   "cell_type": "code",
   "execution_count": 1,
   "metadata": {},
   "outputs": [],
   "source": [
    "def is_valid(matrix, top_left_row, top_left_col, bottom_right_row, bottom_right_col):\n",
    "    for i in range(top_left_row, bottom_right_row):\n",
    "        for j in range(top_left_col, bottom_right_col):\n",
    "            if matrix[i][j] == 0:\n",
    "                return False\n",
    "    return True\n",
    "\n",
    "def area(top_left_row, top_left_col, bottom_right_row, bottom_right_col):\n",
    "    return (bottom_right_row - top_left_row) * (bottom_right_col - top_left_col)\n",
    "\n",
    "def largest_rectangle(matrix):\n",
    "    n, m = len(matrix), len(matrix[0])\n",
    "    max_so_far = 0\n",
    "    for top_left_row in range(n):\n",
    "        for top_left_col in range(m):\n",
    "            for bottom_right_row in range(n, top_left_row, -1):\n",
    "                for bottom_right_col in range(m, top_left_col, -1):\n",
    "                    if is_valid(\n",
    "                            matrix,\n",
    "                            top_left_row,\n",
    "                            top_left_col,\n",
    "                            bottom_right_row,\n",
    "                            bottom_right_col):\n",
    "                        max_so_far = max(\n",
    "                                max_so_far,\n",
    "                                area(\n",
    "                                    top_left_row,\n",
    "                                    top_left_col,\n",
    "                                    bottom_right_row,\n",
    "                                    bottom_right_col))\n",
    "    return max_so_far"
   ]
  },
  {
   "cell_type": "raw",
   "metadata": {},
   "source": [
    "To improve the runtime, we can actually only look at the whole matrix once. If we keep a row in our cache, then we can keep incrementing the elements in our row for each column if we encounter a 1, or reset it to 0 if we encounter a 0. Then we can infer the largest subrectangle we've seen so far, and keep track of the largest.\n",
    "\n",
    "Let's go through an example:\n",
    "\n",
    "101\n",
    "011\n",
    "111\n",
    "For this example, our cache starts off as [0, 0, 0]. After we read in the first row, it becomes [1, 0, 1]. The largest subrectangle here is either at column 0 or 2, with an area of 1. When we read in the second row, we'll reset to zero each column we see a 0 in and increment each column we see a 1 in, so it'll be [0, 1, 2].\n",
    "\n",
    "Now we know that we've seen one 1 in the middle column and two 1s in a row in the last column, so we can infer that the largest sub rectangle of 1s so far has area 2.\n",
    "\n",
    "After reading the third row, we get [1, 2, 3], and again infer that the largest area is 2 * 2 = 4.\n",
    "\n",
    "How can we infer the area? We're given a row of heights, similar to a histogram, and we want the largest rectangle we can make given these values. We can do this using brute force: calculating the area of each rectangle starting and ending at each index by multiplying the min height by the width."
   ]
  },
  {
   "cell_type": "code",
   "execution_count": 2,
   "metadata": {},
   "outputs": [],
   "source": [
    "def infer_area(cache):\n",
    "    max_area = 0\n",
    "    for i in range(len(cache)):\n",
    "        for j in range(i + 1, len(cache) + 1):\n",
    "            current_rectangle = min(cache[i:j]) * (j - i)\n",
    "            max_area = max(max_area, current_rectangle)\n",
    "    return max_area\n",
    "\n",
    "\n",
    "def largest_rectangle(matrix):\n",
    "    n, m = len(matrix), len(matrix[0])\n",
    "    max_so_far = 0\n",
    "\n",
    "    cache = [0 for _ in range(m)]\n",
    "    for row in matrix:\n",
    "        for i, val in enumerate(row):\n",
    "            if val == 0:\n",
    "                cache[i] = 0\n",
    "            elif val == 1:\n",
    "                cache[i] += 1\n",
    "        max_so_far = max(max_so_far, infer_area(cache))\n",
    "\n",
    "    return max_so_far"
   ]
  },
  {
   "cell_type": "raw",
   "metadata": {},
   "source": [
    "This would take O(MN^3) time and O(N) space, since we keep one row in memory (as the cache), and we run a double for loop over each row to calculate the area"
   ]
  }
 ],
 "metadata": {
  "kernelspec": {
   "display_name": "Python 3",
   "language": "python",
   "name": "python3"
  },
  "language_info": {
   "codemirror_mode": {
    "name": "ipython",
    "version": 3
   },
   "file_extension": ".py",
   "mimetype": "text/x-python",
   "name": "python",
   "nbconvert_exporter": "python",
   "pygments_lexer": "ipython3",
   "version": "3.6.5"
  }
 },
 "nbformat": 4,
 "nbformat_minor": 2
}
