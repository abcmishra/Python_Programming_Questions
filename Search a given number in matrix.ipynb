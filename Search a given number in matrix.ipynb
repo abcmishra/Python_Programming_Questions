{
 "cells": [
  {
   "cell_type": "raw",
   "metadata": {},
   "source": [
    "Suppose you have a multiplication table that is N by N. That is, a 2D array where the value at the i-th row and j-th column is (i + 1) * (j + 1) (if 0-indexed) or i * j (if 1-indexed).\n",
    "\n",
    "Given integers N and X, write a function that returns the number of times X appears as a value in an N by N multiplication table.\n",
    "\n",
    "For example, given N = 6 and X = 12, you should return 4, since the multiplication table looks like this:\n"
   ]
  },
  {
   "cell_type": "raw",
   "metadata": {},
   "source": [
    "1 1 | 2 | 3 | 4 | 5 | 6 |\n",
    "\n",
    "| 2 | 4 | 6 | 8 | 10 | 12 |\n",
    "\n",
    "| 3 | 6 | 9 | 12 | 15 | 18 |\n",
    "\n",
    "| 4 | 8 | 12 | 16 | 20 | 24 |\n",
    "\n",
    "| 5 | 10 | 15 | 20 | 25 | 30 |\n",
    "\n",
    "| 6 | 12 | 18 | 24 | 30 | 36 |\n",
    "\n",
    "And there are 4 12's in the table.\n",
    "\n"
   ]
  },
  {
   "cell_type": "code",
   "execution_count": 2,
   "metadata": {},
   "outputs": [
    {
     "name": "stdout",
     "output_type": "stream",
     "text": [
      "Enter the number of rows3\n",
      "Enter the number of columns3\n",
      "Enter the entries in a single line(separated by space):\n",
      "1 2 3 2 4 6 3 6 9\n",
      "[[1 2 3]\n",
      " [2 4 6]\n",
      " [3 6 9]]\n"
     ]
    }
   ],
   "source": [
    "import numpy as np\n",
    "x=int(input(\"Enter the element to be searched\"))\n",
    "R=int(input(\"Enter the number of rows\"))\n",
    "C=int(input(\"Enter the number of columns\"))\n",
    "print(\"Enter the entries in a single line(separated by space):\")\n",
    "#User inpu of entries in a\n",
    "#single line separated by space\n",
    "entries=list(map(int,input().split()))\n",
    "#For printing the matrix\n",
    "matrix=np.array(entries).reshape(R,C)\n",
    "print(matrix)"
   ]
  },
  {
   "cell_type": "markdown",
   "metadata": {},
   "source": [
    "# Brute Force"
   ]
  },
  {
   "cell_type": "code",
   "execution_count": 6,
   "metadata": {},
   "outputs": [
    {
     "name": "stdout",
     "output_type": "stream",
     "text": [
      "Enter the number n 5\n",
      "Enter the number to be searched 25\n",
      "2\n"
     ]
    }
   ],
   "source": [
    "def multi_tables(n,x):\n",
    "    count=0\n",
    "    for i in range(1,n+1):\n",
    "        for j in range(1,n+1):\n",
    "            if i*j==n:\n",
    "                count+=1\n",
    "    return count\n",
    "    \n",
    "n=int(input(\"Enter the number n \"))\n",
    "x=int(input(\"Enter the number to be searched \"))\n",
    "count=multi_tables(n,x)\n",
    "print(count)\n",
    "    "
   ]
  },
  {
   "cell_type": "raw",
   "metadata": {},
   "source": [
    "Time complexity of the program is O(N^2)"
   ]
  },
  {
   "cell_type": "markdown",
   "metadata": {},
   "source": [
    "# Optimized Solution\n"
   ]
  },
  {
   "cell_type": "code",
   "execution_count": 11,
   "metadata": {},
   "outputs": [
    {
     "name": "stdout",
     "output_type": "stream",
     "text": [
      "Enter the input 4\n",
      "Enter the number to be searched 12\n",
      "3\n"
     ]
    }
   ],
   "source": [
    "def multi_tables(n,x):\n",
    "    count=0\n",
    "    for i in range(1,n+1):\n",
    "        if n%i==0 and n%i<=n:\n",
    "            count+=1\n",
    "    return count\n",
    "n=int(input(\"Enter the input \" ))\n",
    "x=int(input(\"Enter the number to be searched \"))\n",
    "count=multi_tables(n,x)\n",
    "print(count)"
   ]
  },
  {
   "cell_type": "raw",
   "metadata": {},
   "source": [
    "Time complexity of the program is O(N)"
   ]
  }
 ],
 "metadata": {
  "kernelspec": {
   "display_name": "Python 3",
   "language": "python",
   "name": "python3"
  },
  "language_info": {
   "codemirror_mode": {
    "name": "ipython",
    "version": 3
   },
   "file_extension": ".py",
   "mimetype": "text/x-python",
   "name": "python",
   "nbconvert_exporter": "python",
   "pygments_lexer": "ipython3",
   "version": "3.6.5"
  }
 },
 "nbformat": 4,
 "nbformat_minor": 2
}
