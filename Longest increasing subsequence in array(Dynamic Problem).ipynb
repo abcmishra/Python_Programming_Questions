{
 "cells": [
  {
   "cell_type": "markdown",
   "metadata": {},
   "source": [
    "Given an array of numbers, find the length of the longest increasing subsequence in the array. The subsequence does not necessarily have to be contiguous.\n",
    "\n",
    "For example, given the array [0, 8, 4, 12, 2, 10, 6, 14, 1, 9, 5, 13, 3, 11, 7, 15], the longest increasing subsequence has length 6: it is 0, 2, 6, 9, 11, 15"
   ]
  },
  {
   "cell_type": "raw",
   "metadata": {},
   "source": [
    "Assume that we already have a function that gives us the length of the longest increasing subsequence. Then we'll try to feed some part of our input array back to it and try to extend the result. Our base cases are: the empty list, returning 0, and an array with one element, returning 1."
   ]
  },
  {
   "cell_type": "raw",
   "metadata": {},
   "source": [
    "For every index i up until the second to last element, calculate longest_increasing_subsequence up to there.\n",
    "We can only extend the result with the last element if our last element is greater than arr[i] (since otherwise, it's not increasing).\n",
    "Keep track of the largest result."
   ]
  },
  {
   "cell_type": "code",
   "execution_count": 1,
   "metadata": {},
   "outputs": [],
   "source": [
    "def longest_increasing_subsequence(arr):\n",
    "    \n",
    "    if not arr:\n",
    "        return 0\n",
    "    if len(arr) is 1:\n",
    "        return 1\n",
    "\n",
    "    max_ending_here = 0\n",
    "    for i in range(len(arr)):\n",
    "        ending_at_i = longest_increasing_subsequence(arr[:i])\n",
    "        if arr[-1] > arr[i - 1] and ending_at_i + 1 > max_ending_here:\n",
    "            max_ending_here = ending_at_i + 1\n",
    "    return max_ending_here"
   ]
  },
  {
   "cell_type": "code",
   "execution_count": 4,
   "metadata": {},
   "outputs": [
    {
     "name": "stdout",
     "output_type": "stream",
     "text": [
      "Enter number of elements : 16\n",
      "\n",
      "Enter the numbers : 0 8 4 12 2 10 6 14 1 9 5 13 3 11 7 15\n",
      "6\n"
     ]
    }
   ],
   "source": [
    "\n",
    "# number of elements \n",
    "n = int(input(\"Enter number of elements : \")) \n",
    "  \n",
    "# Below line read inputs from user using map() function  \n",
    "li = list(map(int,input(\"\\nEnter the numbers : \").strip().split()))[:n]\n",
    "len_of_increasing_sequence=longest_increasing_subsequence(li)\n",
    "print(len_of_increasing_sequence)\n"
   ]
  },
  {
   "cell_type": "raw",
   "metadata": {},
   "source": [
    "This is really slow due to repeated subcomputations (exponential in time). So, let's use dynamic programming to store values to recompute them for later.\n",
    "\n",
    "We'll keep an array A of length N, and A[i] will contain the length of the longest increasing subsequence ending at i. We can then use the same recurrence but look it up in the array instead:"
   ]
  },
  {
   "cell_type": "code",
   "execution_count": 8,
   "metadata": {},
   "outputs": [],
   "source": [
    "def longest_increasing_subsequence_using_dp(arr):\n",
    "    if not arr:\n",
    "        return 0\n",
    "    cache = [1] * len(arr)\n",
    "    for i in range(1, len(arr)):\n",
    "        for j in range(i):\n",
    "            if arr[i] > arr[j]:\n",
    "                cache[i] = max(cache[i], cache[j] + 1)\n",
    "    return max(cache)"
   ]
  },
  {
   "cell_type": "code",
   "execution_count": 9,
   "metadata": {},
   "outputs": [
    {
     "name": "stdout",
     "output_type": "stream",
     "text": [
      "Enter number of elements : 16\n",
      "\n",
      "Enter the numbers : 0 8 4 12 2 10 6 14 1 9 5 13 3 11 7 15\n",
      "6\n"
     ]
    }
   ],
   "source": [
    "\n",
    "# number of elements \n",
    "n = int(input(\"Enter number of elements : \")) \n",
    "  \n",
    "# Below line read inputs from user using map() function  \n",
    "li = list(map(int,input(\"\\nEnter the numbers : \").strip().split()))[:n]\n",
    "len_of_increasing_sequence=longest_increasing_subsequence_using_dp(li)\n",
    "print(len_of_increasing_sequence)\n"
   ]
  }
 ],
 "metadata": {
  "kernelspec": {
   "display_name": "Python 3",
   "language": "python",
   "name": "python3"
  },
  "language_info": {
   "codemirror_mode": {
    "name": "ipython",
    "version": 3
   },
   "file_extension": ".py",
   "mimetype": "text/x-python",
   "name": "python",
   "nbconvert_exporter": "python",
   "pygments_lexer": "ipython3",
   "version": "3.6.5"
  }
 },
 "nbformat": 4,
 "nbformat_minor": 2
}
