{
 "cells": [
  {
   "cell_type": "raw",
   "metadata": {},
   "source": [
    "In order to implement 3 stacks using one list, we separate the list into 3 separate parts, one for each stack.\n",
    "\n",
    "The first stack starts from list[0] and grows up.\n",
    "The second stack starts from list[len(list) / 2] and grows up.\n",
    "The third stack starts from list[len(list) - 1] and grows down.\n",
    "In order to know where to put the next item on push, we store three pointers s0, s1, and s2 for the above three stacks."
   ]
  },
  {
   "cell_type": "code",
   "execution_count": 2,
   "metadata": {},
   "outputs": [],
   "source": [
    "class Stacks:\n",
    "    def __init__(self):\n",
    "        self.size = 10\n",
    "        self.list = [None] * self.size\n",
    "        self.s0 = 0 # Grows up\n",
    "        self.s1 = len(self.list) / 2 # Grows up\n",
    "        self.s2 = len(self.list) - 1 # Grows down\n",
    "\n",
    "    def pop(self, stack_number):\n",
    "        if stack_number == 0:\n",
    "            self.s0 -= 1\n",
    "            return self.list[self.s0]\n",
    "        elif stack_number == 1:\n",
    "            self.s1 -= 1\n",
    "            return self.list[self.s1]\n",
    "        else:\n",
    "            self.s2 += 1\n",
    "            return self.list[self.s2]\n",
    "\n",
    "    def push(self, item, stack_number):\n",
    "        if stack_number == 0:\n",
    "            self.list[self.s0] = item\n",
    "            self.s0 += 1\n",
    "        elif stack_number == 1:\n",
    "            self.list[self.s1] = item\n",
    "            self.s1 += 1\n",
    "        else:\n",
    "            self.list[self.s2] = item\n",
    "            self.s2 -= 1\n",
    "\n",
    "        if self.is_resize_needed():\n",
    "            self.resize(self.size * 2)\n",
    "\n",
    "    def is_resize_needed(self):\n",
    "        return self.s0 == len(self.list) / 2 or self.s1 > self.s2\n",
    "\n",
    "    def resize(self, size):\n",
    "        prev_list = self.list\n",
    "        prev_s0 = self.s0\n",
    "        prev_s1 = self.s1\n",
    "        prev_s2 = self.s2\n",
    "\n",
    "        self.list = [None] * size\n",
    "        self.s0 = 0 # Grows up\n",
    "        self.s1 = len(self.list) / 2 # Grows up\n",
    "        self.s2 = len(self.list) - 1 # Grows down\n",
    "        self.size = size\n",
    "\n",
    "        for i in range(prev_s0):\n",
    "            self.push(prev_list[i], 0)\n",
    "\n",
    "        for i in range(len(prev_list) / 2, prev_s1):\n",
    "            self.push(prev_list[i], 1)\n",
    "\n",
    "        for i in reversed(range(prev_s2 + 1, len(prev_list))):\n",
    "            self.push(prev_list[i], 2)"
   ]
  },
  {
   "cell_type": "code",
   "execution_count": null,
   "metadata": {},
   "outputs": [],
   "source": []
  }
 ],
 "metadata": {
  "kernelspec": {
   "display_name": "Python 3",
   "language": "python",
   "name": "python3"
  },
  "language_info": {
   "codemirror_mode": {
    "name": "ipython",
    "version": 3
   },
   "file_extension": ".py",
   "mimetype": "text/x-python",
   "name": "python",
   "nbconvert_exporter": "python",
   "pygments_lexer": "ipython3",
   "version": "3.6.5"
  }
 },
 "nbformat": 4,
 "nbformat_minor": 2
}
