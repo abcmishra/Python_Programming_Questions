{
 "cells": [
  {
   "cell_type": "markdown",
   "metadata": {},
   "source": [
    "# Given the head to a singly linked list, where each node also has a “random” pointer that points to anywhere in the linked list, deep clone the list.\n"
   ]
  },
  {
   "cell_type": "markdown",
   "metadata": {},
   "source": [
    "This problem has a straightforward solution using O(n) space:\n",
    "\n",
    "Create a clone of the linked list, disregarding random pointers.\n",
    "Make a hashmap that maps from an original node to its cloned counterpart.\n",
    "Iterate through both the clone and originals at the same time. For a given clone node, find the original's random clone counterpart in the hashmap, and set it as its random node.\n",
    "However, there's a clever way to use even less space.\n",
    "\n",
    "First, double the linked list by interleaving it with cloned nodes (without random set). For example, given 1 -> 2 -> 3, becomes 1 -> 1 -> 2 -> 2 -> 3 -> 3.\n",
    "Set the cloned nodes' random by following the original, previous node's random.next.\n",
    "Restore the linked lists by separating them. For example, each original nodes need to set node.next = node.next.next."
   ]
  },
  {
   "cell_type": "code",
   "execution_count": 2,
   "metadata": {},
   "outputs": [],
   "source": [
    "def clone(node):\n",
    "    node = double(node)\n",
    "    set_random_pointers(node)\n",
    "\n",
    "    clone_head = node.next\n",
    "\n",
    "    while node:\n",
    "        clone_match = node.next\n",
    "\n",
    "        if clone_match.next:\n",
    "            node.next, clone_match.next = node.next.next, clone_match.next.next\n",
    "        else:\n",
    "            node.next, clone_match.next = node.next.next, None\n",
    "\n",
    "        node = node.next\n",
    "\n",
    "    return clone_head\n",
    "\n",
    "def set_random_pointers(node):\n",
    "    while node:\n",
    "        clone_match = node.next\n",
    "        clone_match.random = node.random.next\n",
    "\n",
    "        node = node.next.next\n",
    "\n",
    "def double(node):\n",
    "    root = node\n",
    "    while node:\n",
    "        copy = Node(node.val)\n",
    "        next = node.next\n",
    "\n",
    "        node.next = copy\n",
    "        copy.next = next\n",
    "        node = next\n",
    "\n",
    "    return root"
   ]
  }
 ],
 "metadata": {
  "kernelspec": {
   "display_name": "Python 3",
   "language": "python",
   "name": "python3"
  },
  "language_info": {
   "codemirror_mode": {
    "name": "ipython",
    "version": 3
   },
   "file_extension": ".py",
   "mimetype": "text/x-python",
   "name": "python",
   "nbconvert_exporter": "python",
   "pygments_lexer": "ipython3",
   "version": "3.6.5"
  }
 },
 "nbformat": 4,
 "nbformat_minor": 2
}
