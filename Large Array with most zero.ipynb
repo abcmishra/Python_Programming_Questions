{
 "cells": [
  {
   "cell_type": "raw",
   "metadata": {},
   "source": [
    "You have a large array with most of the elements as zero.\n",
    "\n",
    "Use a more space-efficient data structure, SparseArray, that implements the same interface:\n",
    "\n",
    "init(arr, size): initialize with the original large array and size.\n",
    "set(i, val): updates index at i with val.\n",
    "get(i): gets the value at index i."
   ]
  },
  {
   "cell_type": "raw",
   "metadata": {},
   "source": [
    "Since the original array is mostly zeroes, we should be able to manage our array with a lot less space by only keeping track of the non-zero values and indices. We can use a dictionary to keep track of those, and default to zero when the key is not found in our dictionary.\n",
    "\n",
    "Remember to also check the bounds when setting or getting i, and to clean up any indices if we're setting an index to zero again.\n"
   ]
  },
  {
   "cell_type": "code",
   "execution_count": 1,
   "metadata": {},
   "outputs": [],
   "source": [
    "class SparseArray:\n",
    "    def __init__(self, arr, n):\n",
    "        self.n = n\n",
    "        self._dict = {}\n",
    "        for i, e in enumerate(arr):\n",
    "            if e != 0:\n",
    "                self._dict[i] = e\n",
    "\n",
    "    def _check_bounds(self, i):\n",
    "        if i < 0 or i >= self.n:\n",
    "            raise IndexError('Out of bounds')\n",
    "\n",
    "    def set(self, i, val):\n",
    "        self._check_bounds(i)\n",
    "        if val != 0:\n",
    "            self._dict[i] = val\n",
    "            return\n",
    "        elif i in self._dict:\n",
    "            del self._dict[i]\n",
    "\n",
    "    def get(self, i):\n",
    "        self._check_bounds(i)\n",
    "        return self._dict.get(i, 0)"
   ]
  },
  {
   "cell_type": "code",
   "execution_count": null,
   "metadata": {},
   "outputs": [],
   "source": []
  }
 ],
 "metadata": {
  "kernelspec": {
   "display_name": "Python 3",
   "language": "python",
   "name": "python3"
  },
  "language_info": {
   "codemirror_mode": {
    "name": "ipython",
    "version": 3
   },
   "file_extension": ".py",
   "mimetype": "text/x-python",
   "name": "python",
   "nbconvert_exporter": "python",
   "pygments_lexer": "ipython3",
   "version": "3.6.5"
  }
 },
 "nbformat": 4,
 "nbformat_minor": 2
}
